{
 "cells": [
  {
   "cell_type": "code",
   "execution_count": 408,
   "metadata": {
    "collapsed": false
   },
   "outputs": [],
   "source": [
    "using JuMP, Gurobi, Ipopt,AmplNLWriter, NLopt\n",
    "using Mosek, Cbc\n",
    "    k = 2              # number of waypoints\n",
    "    T = zeros(Int,k)   # vector of timepoints\n",
    "    xw = zeros(2,k)    # vector of waypoint locations\n",
    "\n",
    "    T[1] = 1\n",
    "    T[2] = 20\n",
    "\n",
    "    # define waypoints\n",
    "    xw = [ 1   4\n",
    "           1   3]\n",
    "   \n",
    "    A = [1 0;\n",
    "        -1 0;\n",
    "        0 1;\n",
    "        0 -1;]\n",
    "    b = [xw[1,k] - 1.01; -(xw[1,k] + 1.01); xw[2,k] - 1.01; -(xw[2,k] + 1.01)];"
   ]
  },
  {
   "cell_type": "code",
   "execution_count": 557,
   "metadata": {
    "collapsed": false
   },
   "outputs": [
    {
     "data": {
      "text/plain": [
       "2×20 Array{Float64,2}:\n",
       " 1.0  1.0  1.0256   1.07539  1.14794  …  3.27596  3.51494  3.75676  4.0\n",
       " 1.0  1.0  1.01707  1.05026  1.09862     2.51731  2.67662  2.83784  3.0"
      ]
     },
     "execution_count": 557,
     "metadata": {},
     "output_type": "execute_result"
    }
   ],
   "source": [
    "    m = Model(solver = GurobiSolver(OutputFlag=0))\n",
    "    @variable(m, x[1:2,1:T[k]])  # resulting position\n",
    "    @variable(m, v[1:2,1:T[k]])  # resulting velocity\n",
    "    @variable(m, u[1:2,1:T[k]])  # thruster input\n",
    "    @variable(m, inTarget[1:4, 1:T[k]], Bin)\n",
    "    @variable(m, timeStep[1:T[k]], Bin)\n",
    "\n",
    "    # satisfy the dynamics (with zero initial velocity)\n",
    "    @constraint(m, v[:,1] .== [0;0])\n",
    "\n",
    "    for t in 1:T[k]-1\n",
    "        @constraint(m, x[:,t+1] .== x[:,t] + v[:,t])\n",
    "        @constraint(m, v[:,t+1] .== v[:,t] + u[:,t])\n",
    "    end\n",
    "\n",
    "    # hit all the waypoints\n",
    "    \n",
    "    for t in [1 k]\n",
    "        @constraint(m, x[:,T[t]] .== xw[:,t])\n",
    "    end\n",
    "\n",
    "    #@constraint(m, (x[1,t]) <= 2.5 + 1000*inTarget[1,t])\n",
    "    #@constraint(m, -(x[1,t]) <= -3.5 + 1000*obstacle[2,t])\n",
    "    #@constraint(m, (x[2,t]) <= 2.5 + 1000*obstacle[3,t])\n",
    "    #@constraint(m, -(x[2,t]) <= -3.5 + 1000*obstacle[4,t])\n",
    "    #for t in 2:T[k]\n",
    "        @constraint(m, (x[1,1]) - 2.5 <= 1000*inTarget[1,1])\n",
    "    #end\n",
    "    #for t in 1:T[k]\n",
    "    #    @constraint(m, sum(v[:,t].^2) <= 1)\n",
    "    #end\n",
    "\n",
    "    # minimize 2-norm (THIS IS LEAST-SQUARES)\n",
    "    λ = 100\n",
    "    @objective(m, Min, sum(u.^2) + λ*sum((x[:,T[2:k]]-xw[:,2:k]).^2))\n",
    "    solve(m)\n",
    "    \n",
    "    xopt = getvalue(x)"
   ]
  },
  {
   "cell_type": "code",
   "execution_count": 558,
   "metadata": {
    "collapsed": false
   },
   "outputs": [
    {
     "data": {
      "image/png": "[encoded data removed]",
      "text/plain": [
       "PyPlot.Figure(PyObject <matplotlib.figure.Figure object at 0x3330dcb50>)"
      ]
     },
     "metadata": {},
     "output_type": "display_data"
    },
    {
     "data": {
      "text/plain": [
       "1-element Array{Any,1}:\n",
       " PyObject <matplotlib.lines.Line2D object at 0x3332bef10>"
      ]
     },
     "execution_count": 558,
     "metadata": {},
     "output_type": "execute_result"
    }
   ],
   "source": [
    "using PyPlot\n",
    "figure(figsize=(12,4))\n",
    "plot( xopt[1,:][:], xopt[2,:][:], \"b.-\", markersize=4 )\n",
    "plot( xw[1,:], xw[2,:], \"r.\", markersize=12 )"
   ]
  },
  {
   "cell_type": "code",
   "execution_count": 559,
   "metadata": {
    "collapsed": false
   },
   "outputs": [
    {
     "data": {
      "text/plain": [
       "0.0061640587946385494"
      ]
     },
     "execution_count": 559,
     "metadata": {},
     "output_type": "execute_result"
    }
   ],
   "source": [
    "getobjectivevalue(m)"
   ]
  },
  {
   "cell_type": "code",
   "execution_count": 560,
   "metadata": {
    "collapsed": false
   },
   "outputs": [
    {
     "data": {
      "text/plain": [
       "2×20 Array{Float64,2}:\n",
       " 1.0  1.0  1.0256   1.07539  1.14794  …  3.27596  3.51494  3.75676  4.0\n",
       " 1.0  1.0  1.01707  1.05026  1.09862     2.51731  2.67662  2.83784  3.0"
      ]
     },
     "execution_count": 560,
     "metadata": {},
     "output_type": "execute_result"
    }
   ],
   "source": [
    "x = (getvalue(x))"
   ]
  },
  {
   "cell_type": "code",
   "execution_count": 561,
   "metadata": {
    "collapsed": false
   },
   "outputs": [
    {
     "data": {
      "text/plain": [
       "4×20 Array{Float64,2}:\n",
       " 1.0  0.0  0.0  0.0  0.0  0.0  0.0  0.0  …  0.0  0.0  0.0  0.0  0.0  0.0  0.0\n",
       " 0.0  0.0  0.0  0.0  0.0  0.0  0.0  0.0     0.0  0.0  0.0  0.0  0.0  0.0  0.0\n",
       " 0.0  0.0  0.0  0.0  0.0  0.0  0.0  0.0     0.0  0.0  0.0  0.0  0.0  0.0  0.0\n",
       " 0.0  0.0  0.0  0.0  0.0  0.0  0.0  0.0     0.0  0.0  0.0  0.0  0.0  0.0  0.0"
      ]
     },
     "execution_count": 561,
     "metadata": {},
     "output_type": "execute_result"
    }
   ],
   "source": [
    "inT = getvalue(inTarget)"
   ]
  },
  {
   "cell_type": "code",
   "execution_count": 555,
   "metadata": {
    "collapsed": false
   },
   "outputs": [
    {
     "name": "stdout",
     "output_type": "stream",
     "text": [
      "[4.0,4.0,4.0,4.0,4.0,4.0,4.0,4.0,4.0,4.0,4.0,4.0,4.0,4.0,4.0,4.0,4.0,4.0,4.0,4.0]\n"
     ]
    }
   ],
   "source": [
    "println(sum(inT[i,:] for i in 1:4))"
   ]
  },
  {
   "cell_type": "code",
   "execution_count": 556,
   "metadata": {
    "collapsed": false
   },
   "outputs": [
    {
     "data": {
      "text/plain": [
       "1×20 Array{Float64,2}:\n",
       " 0.0  0.0  0.0  0.0  0.0  0.0  0.0  0.0  …  0.0  0.0  0.0  0.0  0.0  0.0  0.0"
      ]
     },
     "execution_count": 556,
     "metadata": {},
     "output_type": "execute_result"
    }
   ],
   "source": [
    "getvalue(timeStep)'"
   ]
  },
  {
   "cell_type": "code",
   "execution_count": null,
   "metadata": {
    "collapsed": true
   },
   "outputs": [],
   "source": []
  },
  {
   "cell_type": "code",
   "execution_count": null,
   "metadata": {
    "collapsed": true
   },
   "outputs": [],
   "source": []
  }
 ],
 "metadata": {
  "kernelspec": {
   "display_name": "Julia 0.5.0",
   "language": "julia",
   "name": "julia-0.5"
  },
  "language_info": {
   "file_extension": ".jl",
   "mimetype": "application/julia",
   "name": "julia",
   "version": "0.5.0"
  }
 },
 "nbformat": 4,
 "nbformat_minor": 2
}
