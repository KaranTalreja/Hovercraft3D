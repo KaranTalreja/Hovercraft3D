{
 "cells": [
  {
   "cell_type": "code",
   "execution_count": 36,
   "metadata": {
    "collapsed": true
   },
   "outputs": [],
   "source": [
    "using JuMP, Gurobi, Ipopt,AmplNLWriter, NLopt\n",
    "using Mosek, Cbc"
   ]
  },
  {
   "cell_type": "code",
   "execution_count": 65,
   "metadata": {
    "collapsed": true
   },
   "outputs": [],
   "source": [
    "k = 3              # number of waypoints\n",
    "T = zeros(Int,k)   # vector of timepoints\n",
    "xw = zeros(2,k)    # vector of waypoint locations\n",
    "\n",
    "T[1] = 1\n",
    "T[2] = 20\n",
    "T[3] = 50\n",
    "\n",
    "# define waypoints\n",
    "xw = [ 1   4   6\n",
    "       1   3   0]\n",
    "\n",
    "L = .2 # length of car\n",
    ";"
   ]
  },
  {
   "cell_type": "code",
   "execution_count": 93,
   "metadata": {
    "collapsed": false
   },
   "outputs": [
    {
     "name": "stdout",
     "output_type": "stream",
     "text": [
      "Bonmin 1.8.4 using Cbc 2.9.7 and Ipopt 3.12.4\n",
      "bonmin: \n",
      "Cbc3007W No integer variables - nothing to do\n",
      "\n",
      "******************************************************************************\n",
      "This program contains Ipopt, a library for large-scale nonlinear optimization.\n",
      " Ipopt is released as open source code under the Eclipse Public License (EPL).\n",
      "         For more information visit http://projects.coin-or.org/Ipopt\n",
      "******************************************************************************\n",
      "\n",
      "NLP0012I \n",
      "              Num      Status      Obj             It       time                 Location\n",
      "NLP0014I             1         OPT 10.802877      450 1.937403\n",
      "Cbc3007W No integer variables - nothing to do\n",
      "\b\b\b\b\b\b\b\b\n",
      " \t\"Finished\"\n"
     ]
    },
    {
     "data": {
      "text/plain": [
       ":Optimal"
      ]
     },
     "execution_count": 93,
     "metadata": {},
     "output_type": "execute_result"
    }
   ],
   "source": [
    "m = Model(solver=AmplNLSolver(\"bonmin\"))\n",
    "\n",
    "@variable(m, x[1:2,1:T[k]])  # Inertial frame\n",
    "@variable(m, θ[1:T[k]])      # Inertial frame orientation\n",
    "@variable(m, -π/10 <= ϕ[1:T[k]] <= π/10)      # steering angle\n",
    "\n",
    "@variable(m, vx[1:2,1:T[k]]) # velocity in inertial frame\n",
    "@variable(m, v[1:T[k]])      # wheel velocity in body frame\n",
    "@variable(m, vθ[1:T[k]])     # Orientation change velocity\n",
    "@variable(m, -π/20 <= vϕ[1:T[k]] <= π/20)     # Orientation change velocity\n",
    "\n",
    "@variable(m, u[1:T[k]] >= 0 )      # thruster input\n",
    "\n",
    "# satisfy the dynamics (with zero initial velocity)\n",
    "@constraint(m, vx[:,1] .== [0;0])\n",
    "@constraint(m, v[1] == 0)\n",
    "@constraint(m, u[1] == 0)\n",
    "@constraint(m, ϕ[1] == 0)\n",
    "@constraint(m, vϕ[1] == 0)\n",
    "@constraint(m, θ[1] == π/2)\n",
    "\n",
    "for t in 1:T[k]-1\n",
    "    @constraint(m, x[:,t+1] .== x[:,t] + vx[:,t])\n",
    "    @constraint(m, θ[t+1] == θ[t] + vθ[t])\n",
    "    @constraint(m, ϕ[t+1] == ϕ[t] + vϕ[t])\n",
    "    @constraint(m, v[t+1] == v[t] + u[t])\n",
    "    \n",
    "    @NLconstraint(m, vx[1,t] == v[t]*cos(θ[t]))\n",
    "    @NLconstraint(m, vx[2,t] == v[t]*sin(θ[t]))\n",
    "    @NLconstraint(m, vθ[t] == (v[t]/L)*tan(ϕ[t]))\n",
    "end\n",
    "\n",
    "#for t in 1:T[k]-1 \n",
    "#    @expression(m, distanceTravelled, )\n",
    "#end\n",
    "\n",
    "# hit all waypoints\n",
    "for i in [1 k]\n",
    "    @constraint(m, x[:,T[i]] .== xw[:,i])\n",
    "end\n",
    "\n",
    "# minimize 2-norm (THIS IS LEAST-SQUARES)\n",
    "λ = 100\n",
    "@objective(m, Min, sum(v) + \n",
    "    λ*sum( (x[:,T[2:k]]-xw[:,2:k]).^2  ))\n",
    "    #+ sum(sum((x[:,t+1] - x[:,t]).^2) for t in 1:T[k]-1))\n",
    "\n",
    "solve(m)"
   ]
  },
  {
   "cell_type": "code",
   "execution_count": 94,
   "metadata": {
    "collapsed": false
   },
   "outputs": [
    {
     "data": {
      "image/png": "[encoded data removed]",
      "text/plain": [
       "PyPlot.Figure(PyObject <matplotlib.figure.Figure object at 0x3246227d0>)"
      ]
     },
     "metadata": {},
     "output_type": "display_data"
    },
    {
     "data": {
      "text/plain": [
       "1-element Array{Any,1}:\n",
       " PyObject <matplotlib.lines.Line2D object at 0x3250fdad0>"
      ]
     },
     "execution_count": 94,
     "metadata": {},
     "output_type": "execute_result"
    }
   ],
   "source": [
    "using PyPlot\n",
    "figure(figsize=(12,4))\n",
    "xopt = getvalue(x)\n",
    "plot( xopt[1,:][:], xopt[2,:][:], \"b.-\", markersize=4 )\n",
    "plot( xw[1,:], xw[2,:], \"r.\", markersize=12 )"
   ]
  },
  {
   "cell_type": "code",
   "execution_count": 80,
   "metadata": {
    "collapsed": false
   },
   "outputs": [
    {
     "data": {
      "text/plain": [
       "2×50 Array{Float64,2}:\n",
       " 1.0  1.0  1.0  1.0      1.03974  1.15577  …   6.0          6.0        \n",
       " 1.0  1.0  1.0  1.22462  1.44569  1.63802     -7.26472e-17  1.50375e-26"
      ]
     },
     "execution_count": 80,
     "metadata": {},
     "output_type": "execute_result"
    }
   ],
   "source": [
    "xopt = getvalue(x)"
   ]
  },
  {
   "cell_type": "code",
   "execution_count": 81,
   "metadata": {
    "collapsed": false
   },
   "outputs": [
    {
     "data": {
      "text/plain": [
       "1×50 Array{Float64,2}:\n",
       " 1.5708  1.5708  1.5708  1.39292  1.028  …  -2.28724  -2.28724  -2.28724"
      ]
     },
     "execution_count": 81,
     "metadata": {},
     "output_type": "execute_result"
    }
   ],
   "source": [
    "θopt = getvalue(θ)'"
   ]
  },
  {
   "cell_type": "code",
   "execution_count": 82,
   "metadata": {
    "collapsed": false
   },
   "outputs": [
    {
     "data": {
      "text/plain": [
       "1×50 Array{Float64,2}:\n",
       " -2.90125e-20  -8.70374e-20  -0.15708  -0.314159  …  -0.00267903  -0.00214321"
      ]
     },
     "execution_count": 82,
     "metadata": {},
     "output_type": "execute_result"
    }
   ],
   "source": [
    "ϕopt = getvalue(ϕ)'"
   ]
  },
  {
   "cell_type": "code",
   "execution_count": 83,
   "metadata": {
    "collapsed": false
   },
   "outputs": [
    {
     "data": {
      "text/plain": [
       "1×50 Array{Float64,2}:\n",
       " 1.04836e-25  0.224617  0.0  0.0  0.0  …  0.0  0.0  0.0  0.0  0.0  124.93"
      ]
     },
     "execution_count": 83,
     "metadata": {},
     "output_type": "execute_result"
    }
   ],
   "source": [
    "uopt = getvalue(u)'"
   ]
  },
  {
   "cell_type": "code",
   "execution_count": 84,
   "metadata": {
    "collapsed": false
   },
   "outputs": [
    {
     "data": {
      "text/plain": [
       "1×50 Array{Float64,2}:\n",
       " 1.05466e-25  3.15391e-25  0.224617  …  0.224617  0.224617  0.224617"
      ]
     },
     "execution_count": 84,
     "metadata": {},
     "output_type": "execute_result"
    }
   ],
   "source": [
    "vopt = getvalue(v)'"
   ]
  },
  {
   "cell_type": "code",
   "execution_count": 85,
   "metadata": {
    "collapsed": false
   },
   "outputs": [
    {
     "data": {
      "text/plain": [
       "2×50 Array{Float64,2}:\n",
       " 1.85656e-25  3.70818e-25  1.37538e-17  …  5.65618e-17  6.32804e-17  0.0\n",
       " 1.07957e-25  4.26087e-25  0.224617        6.49341e-17  7.26472e-17  0.0"
      ]
     },
     "execution_count": 85,
     "metadata": {},
     "output_type": "execute_result"
    }
   ],
   "source": [
    "vxopt = getvalue(vx)"
   ]
  },
  {
   "cell_type": "code",
   "execution_count": 86,
   "metadata": {
    "collapsed": false
   },
   "outputs": [
    {
     "data": {
      "text/plain": [
       "1×50 Array{Float64,2}:\n",
       " -2.90125e-20  -0.15708  -0.15708  …  0.00120556  0.000535822  0.0"
      ]
     },
     "execution_count": 86,
     "metadata": {},
     "output_type": "execute_result"
    }
   ],
   "source": [
    "vϕopt = getvalue(vϕ)'"
   ]
  },
  {
   "cell_type": "code",
   "execution_count": null,
   "metadata": {
    "collapsed": true
   },
   "outputs": [],
   "source": []
  }
 ],
 "metadata": {
  "kernelspec": {
   "display_name": "Julia 0.5.0",
   "language": "julia",
   "name": "julia-0.5"
  },
  "language_info": {
   "file_extension": ".jl",
   "mimetype": "application/julia",
   "name": "julia",
   "version": "0.5.0"
  }
 },
 "nbformat": 4,
 "nbformat_minor": 2
}
