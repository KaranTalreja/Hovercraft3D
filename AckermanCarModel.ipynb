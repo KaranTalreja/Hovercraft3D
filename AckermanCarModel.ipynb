{
 "cells": [
  {
   "cell_type": "code",
   "execution_count": 142,
   "metadata": {
    "collapsed": true
   },
   "outputs": [],
   "source": [
    "using JuMP, Gurobi, Ipopt,AmplNLWriter, NLopt\n",
    "using Mosek, Cbc"
   ]
  },
  {
   "cell_type": "code",
   "execution_count": 154,
   "metadata": {
    "collapsed": true
   },
   "outputs": [],
   "source": [
    "k = 3              # number of waypoints\n",
    "T = zeros(Int,k)   # vector of timepoints\n",
    "xw = zeros(2,k)    # vector of waypoint locations\n",
    "xθw = zeros(1,k)\n",
    "\n",
    "T[1] = 1\n",
    "T[2] = 20\n",
    "T[3] = 60\n",
    "\n",
    "# define waypoints\n",
    "xw = [ 1   8   18\n",
    "       1   6   0]\n",
    "\n",
    "# define waypoints\n",
    "#xθw = [π/2  π/2  π/2]\n",
    "\n",
    "L = .1 # length of car\n",
    ";"
   ]
  },
  {
   "cell_type": "code",
   "execution_count": 162,
   "metadata": {
    "collapsed": false
   },
   "outputs": [
    {
     "name": "stdout",
     "output_type": "stream",
     "text": [
      "Bonmin 1.8.4 using Cbc 2.9.7 and Ipopt 3.12.4\n",
      "bonmin: \n",
      "Cbc3007W No integer variables - nothing to do\n",
      "\n",
      "******************************************************************************\n",
      "This program contains Ipopt, a library for large-scale nonlinear optimization.\n",
      " Ipopt is released as open source code under the Eclipse Public License (EPL).\n",
      "         For more information visit http://projects.coin-or.org/Ipopt\n",
      "******************************************************************************\n",
      "\n",
      "NLP0012I \n",
      "              Num      Status      Obj             It       time                 Location\n",
      "NLP0014I             1         OPT 1.8189894e-12      231 1.045451\n",
      "Cbc3007W No integer variables - nothing to do\n",
      "\b\b\b\b\b\b\b\b\n",
      " \t\"Finished\"\n"
     ]
    },
    {
     "data": {
      "text/plain": [
       ":Optimal"
      ]
     },
     "execution_count": 162,
     "metadata": {},
     "output_type": "execute_result"
    }
   ],
   "source": [
    "m = Model(solver=AmplNLSolver(\"bonmin\"))\n",
    "\n",
    "@variable(m, x[1:2,1:T[k]])  # Inertial frame\n",
    "@variable(m, θ[1:T[k]])      # Inertial frame orientation\n",
    "@variable(m, -π/10 <= ϕ[1:T[k]] <= π/10)      # steering angle\n",
    "\n",
    "@variable(m, vx[1:2,1:T[k]]) # velocity in inertial frame\n",
    "@variable(m, v[1:T[k]])      # wheel velocity in body frame\n",
    "@variable(m, vθ[1:T[k]])     # Orientation change velocity\n",
    "@variable(m, -π/15 <= vϕ[1:T[k]] <= π/15)     # Orientation change velocity\n",
    "\n",
    "@variable(m, -1 <= u[1:T[k]] <= 1)      # thruster input\n",
    "#@variable(m, a[1:T[k]] >= 0)      # acceleration\n",
    "#@variable(m, b[1:T[k]] >= 0)      # brakes\n",
    "#@variable(m , aOrb[1:T[k]], Bin)\n",
    "\n",
    "# satisfy the dynamics (with zero initial velocity)\n",
    "@constraint(m, vx[:,1] .== [0;0])\n",
    "@constraint(m, v[1] == 0)\n",
    "@constraint(m, u[1] == 0)\n",
    "@constraint(m, ϕ[1] == 0)\n",
    "@constraint(m, vϕ[1] == 0)\n",
    "#@constraint(m, θ[1] == π/2)\n",
    "\n",
    "for t in 1:T[k]-1\n",
    "    @constraint(m, x[:,t+1] .== x[:,t] + vx[:,t])\n",
    "    @constraint(m, θ[t+1] == θ[t] + vθ[t])\n",
    "    @constraint(m, ϕ[t+1] == ϕ[t] + vϕ[t])\n",
    "    @constraint(m, v[t+1] == v[t] + u[t])\n",
    "    #@constraint(m, u[t+1] == u[t] + a[t] - b[t])\n",
    "    #@constraint(m, a[t+1] == a[t] - b[t])\n",
    "    #@constraint(m, b[t] <= a[t])\n",
    "end\n",
    "for t in 1:T[k]  \n",
    "    @NLconstraint(m, vx[1,t] == v[t]*cos(θ[t]))\n",
    "    @NLconstraint(m, vx[2,t] == v[t]*sin(θ[t]))\n",
    "    @NLconstraint(m, vθ[t] == (v[t]/L)*tan(ϕ[t]))\n",
    "end\n",
    "\n",
    "# hit all waypoints\n",
    "for i in [1 k]\n",
    "    @constraint(m, x[:,T[i]] .== xw[:,i])\n",
    "    #@constraint(m, θ[T[i]] == xθw[i])\n",
    "end\n",
    "\n",
    "@expression(m, distance, sum(sum((x[:,t+1] - x[:,t]).^2) for t in 1:T[k]-1))\n",
    "# minimize 2-norm (THIS IS LEAST-SQUARES)\n",
    "λ = 100\n",
    "@objective(m, Min, sum(u.^2) + \n",
    "    λ*sum( (x[:,T[2:k]]-xw[:,2:k]).^2  ) + 0.0sum( (θ[T[2:k]]-xθw[2:k]).^2  )\n",
    "    + 0.0distance)\n",
    "\n",
    "solve(m)"
   ]
  },
  {
   "cell_type": "code",
   "execution_count": 163,
   "metadata": {
    "collapsed": false
   },
   "outputs": [
    {
     "data": {
      "image/png": "[encoded data removed]",
      "text/plain": [
       "PyPlot.Figure(PyObject <matplotlib.figure.Figure object at 0x32963f6d0>)"
      ]
     },
     "metadata": {},
     "output_type": "display_data"
    },
    {
     "data": {
      "text/plain": [
       "1-element Array{Any,1}:\n",
       " PyObject <matplotlib.lines.Line2D object at 0x329c9ed90>"
      ]
     },
     "execution_count": 163,
     "metadata": {},
     "output_type": "execute_result"
    }
   ],
   "source": [
    "using PyPlot\n",
    "figure(figsize=(12,4))\n",
    "xopt = getvalue(x)\n",
    "plot( xopt[1,:][:], xopt[2,:][:], \"b.-\", markersize=4 )\n",
    "plot( xw[1,:], xw[2,:], \"r.\", markersize=12 )"
   ]
  },
  {
   "cell_type": "code",
   "execution_count": 164,
   "metadata": {
    "collapsed": false
   },
   "outputs": [
    {
     "data": {
      "text/plain": [
       "57.913632426583774"
      ]
     },
     "execution_count": 164,
     "metadata": {},
     "output_type": "execute_result"
    }
   ],
   "source": [
    "getvalue(distance)"
   ]
  },
  {
   "cell_type": "code",
   "execution_count": 147,
   "metadata": {
    "collapsed": false
   },
   "outputs": [
    {
     "data": {
      "text/plain": [
       "2×20 Array{Float64,2}:\n",
       " 1.0  1.0  1.0  1.0     1.00096  …  5.28416  6.17444  7.0828   8.0  8.0\n",
       " 1.0  1.0  1.0  1.0947  1.28623     5.97015  6.04475  6.04647  6.0  6.0"
      ]
     },
     "execution_count": 147,
     "metadata": {},
     "output_type": "execute_result"
    }
   ],
   "source": [
    "xopt = getvalue(x)"
   ]
  },
  {
   "cell_type": "code",
   "execution_count": 148,
   "metadata": {
    "collapsed": false
   },
   "outputs": [
    {
     "data": {
      "text/plain": [
       "1×20 Array{Float64,2}:\n",
       " 1.5708  1.5708  1.5708  1.56577  …  -0.0506168  -0.0789483  -0.0789483"
      ]
     },
     "execution_count": 148,
     "metadata": {},
     "output_type": "execute_result"
    }
   ],
   "source": [
    "θopt = getvalue(θ)'"
   ]
  },
  {
   "cell_type": "code",
   "execution_count": 149,
   "metadata": {
    "collapsed": false
   },
   "outputs": [
    {
     "data": {
      "text/plain": [
       "1×20 Array{Float64,2}:\n",
       " -5.71068e-32  -1.7132e-31  -0.00530869  …  -0.00176069  -0.00121894"
      ]
     },
     "execution_count": 149,
     "metadata": {},
     "output_type": "execute_result"
    }
   ],
   "source": [
    "ϕopt = getvalue(ϕ)'"
   ]
  },
  {
   "cell_type": "code",
   "execution_count": 150,
   "metadata": {
    "collapsed": false
   },
   "outputs": [
    {
     "data": {
      "text/plain": [
       "1×20 Array{Float64,2}:\n",
       " 2.05925e-31  0.0946969  0.0968342  …  0.00508356  7.90621e-17  0.0"
      ]
     },
     "execution_count": 150,
     "metadata": {},
     "output_type": "execute_result"
    }
   ],
   "source": [
    "uopt = getvalue(u)'"
   ]
  },
  {
   "cell_type": "code",
   "execution_count": 151,
   "metadata": {
    "collapsed": false
   },
   "outputs": [
    {
     "data": {
      "text/plain": [
       "1×20 Array{Float64,2}:\n",
       " 1.44767e-31  5.56617e-31  0.0946969  …  0.918379  0.923462  0.923462"
      ]
     },
     "execution_count": 151,
     "metadata": {},
     "output_type": "execute_result"
    }
   ],
   "source": [
    "vopt = getvalue(v)'"
   ]
  },
  {
   "cell_type": "code",
   "execution_count": 152,
   "metadata": {
    "collapsed": false
   },
   "outputs": [
    {
     "data": {
      "text/plain": [
       "2×20 Array{Float64,2}:\n",
       " 1.01296e-33  2.02593e-33  5.79851e-18  …   5.54694e-9    5.54694e-9 \n",
       " 8.36096e-32  5.79069e-31  0.0946969       -4.38834e-10  -4.38834e-10"
      ]
     },
     "execution_count": 152,
     "metadata": {},
     "output_type": "execute_result"
    }
   ],
   "source": [
    "vxopt = getvalue(vx)"
   ]
  },
  {
   "cell_type": "code",
   "execution_count": 153,
   "metadata": {
    "collapsed": false
   },
   "outputs": [
    {
     "data": {
      "text/plain": [
       "1×20 Array{Float64,2}:\n",
       " -5.71068e-32  -0.00530869  -0.00513819  …  0.00132426  0.000541754  0.0"
      ]
     },
     "execution_count": 153,
     "metadata": {},
     "output_type": "execute_result"
    }
   ],
   "source": [
    "vϕopt = getvalue(vϕ)'"
   ]
  }
 ],
 "metadata": {
  "kernelspec": {
   "display_name": "Julia 0.5.0",
   "language": "julia",
   "name": "julia-0.5"
  },
  "language_info": {
   "file_extension": ".jl",
   "mimetype": "application/julia",
   "name": "julia",
   "version": "0.5.0"
  }
 },
 "nbformat": 4,
 "nbformat_minor": 2
}
