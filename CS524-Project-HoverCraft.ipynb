{
 "cells": [
  {
   "cell_type": "markdown",
   "metadata": {},
   "source": [
    "### CS/ECE/ISyE 524 &mdash; Introduction to Optimization &mdash; Spring 2017 ###\n",
    "\n",
    "# Project title goes here #\n",
    "\n",
    "#### Rahul Singh (rsingh53@wisc.edu), Karan Talreja (talreja2@wisc.edu), and Heemanshu Suri (hsuri@wisc.edu)\n",
    "\n",
    "*****\n",
    "\n",
    "### Table of Contents\n",
    "\n",
    "1. [Introduction](#1.-Introduction)\n",
    "1. [Mathematical Model](#2.-Mathematical-model)\n",
    "1. [Solution](#3.-Solution)\n",
    "1. [Results and Discussion](#4.-Results-and-discussion)\n",
    "  1. [Optional Subsection](#4.A.-Feel-free-to-add-subsections)\n",
    "1. [Conclusion](#5.-Conclusion)"
   ]
  },
  {
   "cell_type": "markdown",
   "metadata": {
    "collapsed": true
   },
   "source": [
    "## 1. Introduction ##\n",
    "\n",
    "With advances in robotics and immense focus on automation, dissemination of drones and robots in daily life in coming years is inevitable. Clearly, motion planning and navigation of unmanned aerial vehicles are areas of tremendous interest among researchers and scientists these days.\n",
    "\n",
    "As a part of CS524 project, we aim to plan a tranjectory for hovercraft(s) from source to destination. While traversing from source to destination we aim to make hovercraft(s) visit pre-determined positions, avoid stationary and moving obstacles, and minimize thrust.\n",
    "\n",
    "Building upon 2-D hovercraft problem discussed in class, we have solved the obstacle avoidance and collision avoidance problems. We started with the standard 2-D hovercraft problem in which a hovercraft travels from source (point $A$) to destination (point $B$), visiting the waypoints ( points $W_1, W_2, W3, \\dots $ ) in between while minimizing thrust. As an extension to this problem, we introduced stationary obstacles in the path of hovercraft. Stationary obstacles are in the form of a 2-D rectangular area. If hovercraft enters the obstacle region, we consider it a hovercraft crash and an infeasible trajectory.\n",
    "\n",
    "In more realistic settings, there are not only stationary obstacles but moving obstacles too. Consider the problem of trajectory optimization of a swarm of hovercrafts. To simulate more realistic scenario of moving obstacles, we have solved the above stated problem for multiple hovercrafts in which each hovercraft acts as moving obstacle for all other hovercrafts. In other words, there can not be two (or more) hovercrafts at the same location at the same time.\n",
    "\n",
    "This project can serve as foundation for motion planning of drones and robots where the swarm is given the task to reach destination visiting some points in between while avoiding obstacles and collision. A real-life example is drone delivery of a large customer order from Amazon. Multiple drones fly from point $A$ to point $B$ while avoiding stationary obstacles such as buildings (while flying low or running on ground), and also avoiding collision from other drones.\n",
    "\n",
    "We achieved these goals in different stages as shown in \"Solution\" section and are using synthetically generated data in our implementation. We have drawn plots to verify that hovercrafts are not colliding with either stationary or moving obstacles.\n",
    "\n",
    "### ** TODO**\n",
    "Rest of this project report is organized as follows: Section-2 talks about different mathematical models we used to solve above stated problems. Section-3 shows different stages of solution. We have implemented the solution in incremental fashion i.e. without any obstacle, with stationary obstacles, and with moving obstacles. We have also implemented least-square (L-2) tradeoff between thrust and visiting waypoints. Section-4 discusses results and plots various graphs such as XXXXX, YYYYY, ZZZZZZ . Section-5 concludes.\n",
    "\n",
    "\n",
    "![fixit flowchart][flow]\n",
    "\n",
    "For more help on using Markdown, see [this reference](https://github.com/adam-p/markdown-here/wiki/Markdown-Cheatsheet).\n",
    "\n",
    "[flow]: https://s-media-cache-ak0.pinimg.com/736x/f5/75/c5/f575c53b93724808c6f0211890a54900.jpg"
   ]
  },
  {
   "cell_type": "markdown",
   "metadata": {
    "collapsed": true
   },
   "source": [
    "## 2. Mathematical model ##\n",
    "\n",
    "\n",
    "\n",
    "### 2A. Hovercraft Model\n",
    "\n",
    "\n",
    "$$\n",
    "\\begin{aligned}\n",
    "\\underset{\\mathbf{x_t,v_t,u_t} \\in \\mathbb{R}}{\\text{Minimize}}\\qquad& \\sum_{t=0}^{T} \\|{u_t}^2\\| + \\lambda\\sum_{i=1}^{k} \\| (x_{t_i} - w_i)^2 \\| \\\\\n",
    "\\text{subject to:}\\qquad& x_{t+1} = x_t + v_t && \\forall t \\in \\{0, 1,\\dots,T-1\\}\\\\\n",
    "\\qquad& v_{t+1} = v_t + u_t && \\forall t \\in \\{0, 1,\\dots,T-1\\} \\\\\n",
    "\\qquad& x_0 = v_0 = 0\\\\\n",
    "\\end{aligned}\n",
    "$$\n",
    "\n",
    "\n",
    "### 2B. Obstacle Avoidance\n",
    "This section describes constraints to avoid stationary obstacles. Stationary obstacle can be any convex polygon, however for our implementation we chose to define stationary obstacle as a rectangular box. In 2-D plane, an obstacle is represented as (x,y) and is **bounded by bottom-left point ( $\\mathbf { x_{ bl}, y_{ bl} }$ ) and top-right point ( $\\mathbf { x_{tr}, y_{tr} }$ )** i.e.\n",
    "\n",
    "$$\n",
    "\\begin{aligned}\n",
    "\\qquad& x_{bl} ≤ x ≤ x_{tr} && (1) \\\\\n",
    "\\qquad& x_{bl} ≤ x ≤ x_{tr} && (1) \\\\\n",
    "\\qquad& y_{bl} ≤ y ≤ y_{tr} && (2) \\\\\n",
    "\\end{aligned}\n",
    "$$\n",
    "\n",
    "A hovercraft is said to be crashed if it is inside the rectangular region of obstacle. Since a rectangular region is defined by following four lines: \n",
    "\n",
    "$$\n",
    "\\begin{aligned}\n",
    "\\qquad& x ≥ x_{bl}  && (3) \\\\ \n",
    "\\qquad& x ≤ x_{tr} && (4) \\\\\n",
    "\\qquad& y ≥ y_{bl}  && (5) \\\\\n",
    "\\qquad& y ≤ y_{tr} && (6) \\\\\n",
    "\\end{aligned}\n",
    "$$\n",
    "\n",
    "With definition of obstacle from eq. (5), (6), (7), and (8), we can safely state that if a point (x,y) breaks any of the above four constraint, it will be outside the obstacle region. In other words, a hovercraft will not crash as long as it is satisfying three or lesser number of constraints (5) to (8).\n",
    "\n",
    "To apply the above restriction, we transformed these constraints into *Mixed-Integer* form by adding a binary variable z. Let M be a number larger than the maximum possible value of x or y for any hovercraft, then we can represent the restriction stated in above paragraph as follows:\n",
    "\n",
    "$$\n",
    "\\begin{aligned}\n",
    "x ≤ x\\_bl + M*z[1]  && (7) \\\\ \n",
    "-x ≤ -x\\_tr  + M*z[2] && (8) \\\\\n",
    "y ≤ y\\_bl  + M*z[3]  && (9) \\\\\n",
    "-y ≤ -y\\_tr  + M*z[4] && (10) \\\\\n",
    "z[1:4] \\in \\{0,1\\} && (11) \\\\\n",
    "sum(z[1:4]) ≤ 3 && (12) \\\\\n",
    "\\end{aligned}\n",
    "$$\n",
    "\n",
    "### 2C. Collision Avoidance\n",
    "This section describes constraints to avoid collision of a hovercraft with another hovercraft. Although not implemented in this project, this concept can be extended to any moving obstacle by adding some extra constraints. In this, every two hovercrafts should be at some distance (more than minimum safe distance) from each other at any time. The minimum safe distance should be decided in every direction (North/Top, East/Right, South/Bottom, West/Left) and can be different in different directions. For simplicity, we have kept minimum safe distance same in every direction. Let $d_x$ be horizontal distance and $d_y$ be vertical distance between hovercraft $a$ and $b$. Then for hovercrafts to be safe from each other, they need to follow at-least :\n",
    "\n",
    "$$\n",
    "\\begin{aligned}\n",
    "\\quad& x_a -x_b ≥ d_x  && (13) \\\\ \n",
    "\\mathbf{or} \\quad& x_b -x_a ≥ d_x && (14) \\\\\n",
    "\\mathbf{or} \\quad& y_a -y_b ≥ d_y  && (15) \\\\ \n",
    "\\mathbf{or} \\quad& y_b -y_a ≥ d_y && (16) \\\\\n",
    "\\end{aligned}\n",
    "$$\n",
    "\n",
    "Similar to section 2B, we transformed these constraints into *Mixed-Integer* form by adding a binary variable obstacleS. Let M be a number larger than the maximum possible value of x or y for any hovercraft, then we can represent the collision avoidance model stated in above paragraph as follows:\n",
    "\n",
    "$$\n",
    "\\begin{aligned}\n",
    "\\quad& x_a -x_b ≥ d_x - M*obstacleS[1]  && (17) \\\\ \n",
    "\\quad& x_b -x_a ≥ d_x - M*obstacleS[2]  && (18) \\\\ \n",
    "\\quad& y_a -y_b ≥ d_y - M*obstacleS[3]  && (19) \\\\ \n",
    "\\quad& y_b -y_a ≥ d_y - M*obstacleS[4]  && (20) \\\\ \n",
    "\\quad& obstacleS[1:4] \\in \\{0,1\\} && (21) \\\\\n",
    "\\quad& sum(obstacleS[1:4]) ≤ 3 && (22) \\\\\n",
    "\\end{aligned}\n",
    "$$\n",
    "\n",
    "\n",
    "Here is an example of an equation:\n",
    "\n",
    "$$\n",
    "\\begin{bmatrix}\n",
    "  1 & 2 \\\\\n",
    "  3 & 4\n",
    "\\end{bmatrix}\n",
    "\\begin{bmatrix} x \\\\ y \\end{bmatrix} =\n",
    "\\begin{bmatrix} 5 \\\\ 6 \\end{bmatrix}\n",
    "$$\n",
    "\n",
    "And here is an example of an optimization problem in standard form:\n",
    "\n",
    "$$\n",
    "\\begin{aligned}\n",
    "\\underset{x \\in \\mathbb{R^n}}{\\text{maximize}}\\qquad& f_0(x) \\\\\n",
    "\\text{subject to:}\\qquad& f_i(x) \\le 0 && i=1,\\dots,m\\\\\n",
    "& h_j(x) = 0 && j=1,\\dots,r\n",
    "\\end{aligned}\n",
    "$$"
   ]
  },
  {
   "cell_type": "markdown",
   "metadata": {
    "collapsed": true
   },
   "source": [
    "## 3. Solution ##\n",
    "\n",
    "Here, you should code up your model in Julia + JuMP and solve it. Your code should be clean, easy to read, well annotated and commented, and it should compile! You are not allowed to use other programming languages or DCP packages such as `convex.jl`. **I will be running your code**. I suggest having multiple code blocks separated by text blocks that explain the various parts of your solution. You may also solve several versions of your problem with different models/assumptions.\n",
    "\n",
    "It's fine to call external packages such as `Gurobi`, but try to minimize the use of exotic libraries."
   ]
  },
  {
   "cell_type": "markdown",
   "metadata": {},
   "source": [
    "### Data"
   ]
  },
  {
   "cell_type": "code",
   "execution_count": 1,
   "metadata": {
    "collapsed": false
   },
   "outputs": [],
   "source": [
    "using JuMP, Gurobi\n",
    "    k = 3              # number of waypoints\n",
    "    ko = 6             # number of obstacles\n",
    "    N = 2              # number of hovercrafts\n",
    "    T = zeros(Int,k)   # vector of timepoints\n",
    "    xw = zeros(2,k)    # vector of waypoint locations\n",
    "    xo = zeros(2,ko)   # vector of obstacle locations\n",
    "    bbo = zeros(2,ko)  # bounding box around obstacle\n",
    "\n",
    "\n",
    "    A = [1 0;\n",
    "        -1 0;\n",
    "        0 1;\n",
    "        0 -1;]\n",
    "    bo = zeros(4,ko)\n",
    "    \n",
    "    T[1] = 1\n",
    "    T[2] = 20\n",
    "    T[3] = 40\n",
    "    #T[4] = 55\n",
    "    #T[5] = 80\n",
    "\n",
    "    # define waypoints\n",
    "    xw = [5  17 30\n",
    "          5  5  5]\n",
    "    \n",
    "    xo = [ 12  17  23  17  14.5   19.5\n",
    "           5   8    5   2   6.5     3.5]\n",
    "    \n",
    "    bbo = [ 1.2  1.2 1.2  1.2  .7  .7\n",
    "            1.2  1.2 2.2  1.2  .7  .7]\n",
    "\n",
    "    for i in 1:ko\n",
    "        bo[1,i] = xo[1,i] - bbo[1,i]\n",
    "        bo[2,i] = -(xo[1,i] + bbo[1,i])\n",
    "        bo[3,i] = xo[2,i] - bbo[2,i]\n",
    "        bo[4,i] = -(xo[2,i] + bbo[2,i])\n",
    "    end;"
   ]
  },
  {
   "cell_type": "code",
   "execution_count": null,
   "metadata": {
    "collapsed": true
   },
   "outputs": [],
   "source": [
    "m = Model(solver = GurobiSolver(OutputFlag=0))\n",
    "\n",
    "@variable(m, x[1:2,1:T[k],1:N])  # resulting position\n",
    "@variable(m, v[1:2,1:T[k],1:N])  # resulting velocity\n",
    "@variable(m, u[1:2,1:T[k],1:N])  # thruster input\n",
    "@variable(m, obstacle[1:ko,1:4,1:T[k],1:N], Bin)\n",
    "@variable(m, obstacleS[1:4,1:T[k],1:N,1:N], Bin)\n",
    "vMax = 1\n",
    "# satisfy the dynamics (with zero initial velocity)\n",
    "@constraint(m, v[:,1,:] .== [0;0])\n",
    "\n",
    "for t in 1:T[k]-1\n",
    "    @constraint(m, x[:,t+1,:] .== x[:,t,:] + v[:,t,:])\n",
    "    @constraint(m, v[:,t+1,:] .== v[:,t,:] + u[:,t,:])\n",
    "end\n"
   ]
  },
  {
   "cell_type": "code",
   "execution_count": null,
   "metadata": {
    "collapsed": true
   },
   "outputs": [],
   "source": [
    "# hit all the waypoints\n",
    "for t in [1 k]\n",
    "    @constraint(m, x[:,T[t],:] .== xw[:,t])\n",
    "end\n",
    "\n",
    "\n",
    "for n in 1:N\n",
    "    for t in 1:T[k]\n",
    "        @constraint(m, sum(v[:,t,n].^2) <= vMax)\n",
    "    end\n",
    "end\n",
    "\n",
    "\n",
    "# minimize 2-norm (THIS IS LEAST-SQUARES)\n",
    "λ = 100/100\n",
    "@objective(m, Min, sum(u.^2) + λ*sum(sum((x[:,T[2:k],n]-xw[:,2:k]).^2 for n in 1:N)))\n",
    "solve(m)\n",
    "xopt=getvalue(x)"
   ]
  },
  {
   "cell_type": "code",
   "execution_count": null,
   "metadata": {
    "collapsed": true
   },
   "outputs": [],
   "source": [
    "\n",
    "# Avoid all obstacles\n",
    "for n in 1:N\n",
    "    for o in 1:ko\n",
    "        for t in 1:T[k]-1\n",
    "            @constraint(m, A*x[:,t,n] .<= bo[:,o] .+ 1000*obstacle[o,:,t,n])\n",
    "            @constraint(m, sum(obstacle[o,i,t,n] for i in 1:4) <= 3)\n",
    "        end\n",
    "    end\n",
    "end\n",
    "@objective(m, Min, sum(u.^2) + λ*sum(sum((x[:,T[2:k],n]-xw[:,2:k]).^2 for n in 1:N)))\n",
    "solve(m)\n",
    "xopt=getvalue(x)"
   ]
  },
  {
   "cell_type": "code",
   "execution_count": null,
   "metadata": {
    "collapsed": true
   },
   "outputs": [],
   "source": [
    "\n",
    "for n1 in 1:N\n",
    "    for n2 in 1:N\n",
    "        if n1 != n2\n",
    "            for t in 3:T[k]-3\n",
    "                @constraint(m, x[1,t,n1] <= x[1,t,n2] - .5 + 1000*obstacleS[1,t,n1,n2])\n",
    "                @constraint(m, -x[1,t,n1] <= -(x[1,t,n2] + .5) + 1000*obstacleS[2,t,n1,n2])\n",
    "                @constraint(m, x[2,t,n1] <= x[2,t,n2] - .5 + 1000*obstacleS[3,t,n1,n2])\n",
    "                @constraint(m, -x[2,t,n1] <= -(x[2,t,n2] + .5) + 1000*obstacleS[4,t,n1,n2])\n",
    "                @constraint(m, sum(obstacleS[i,t,n1,n2] for i in 1:4) <= 3)\n",
    "            end\n",
    "        end\n",
    "    end\n",
    "end\n",
    "@objective(m, Min, sum(u.^2) + λ*sum(sum((x[:,T[2:k],n]-xw[:,2:k]).^2 for n in 1:N)))\n",
    "solve(m)\n",
    "xopt=getvalue(x)"
   ]
  },
  {
   "cell_type": "code",
   "execution_count": 2,
   "metadata": {
    "collapsed": false
   },
   "outputs": [
    {
     "data": {
      "text/plain": [
       "2×40×2 Array{Float64,3}:\n",
       "[:, :, 1] =\n",
       " 5.0  5.0  5.11985  5.35059  5.68325  …  28.1568   28.7722   29.3864   30.0\n",
       " 5.0  5.0  4.75214  4.5207   4.30827      5.95663   5.64779   5.32691   5.0\n",
       "\n",
       "[:, :, 2] =\n",
       " 5.0  5.0  5.14067  5.40936  5.79344  …  28.3226   28.8832   29.442    30.0\n",
       " 5.0  5.0  5.25214  5.49055  5.71105      3.89689   4.25219   4.62237   5.0"
      ]
     },
     "execution_count": 2,
     "metadata": {},
     "output_type": "execute_result"
    }
   ],
   "source": []
  },
  {
   "cell_type": "code",
   "execution_count": 3,
   "metadata": {
    "collapsed": false
   },
   "outputs": [
    {
     "data": {
      "image/png": "[encoded data removed]",
      "text/plain": [
       "PyPlot.Figure(PyObject <matplotlib.figure.Figure object at 0x318d3e690>)"
      ]
     },
     "metadata": {},
     "output_type": "display_data"
    }
   ],
   "source": [
    "using PyPlot\n",
    "figure(figsize=(12,4))\n",
    "for n in 1:N \n",
    "    plot( xopt[1,:,n][:], xopt[2,:,n][:],\".-\", markersize=4 )\n",
    "end\n",
    "\n",
    "plot( xw[1,:], xw[2,:], \"r.\", markersize=12 )\n",
    "\n",
    "for o in 1:ko\n",
    "    # lower and upper lines\n",
    "    plot(linspace(xo[1,o] - bbo[1,o],xo[1,o] + bbo[1,o],10),\n",
    "        0.*linspace(xo[1,o] - bbo[1,o],xo[1,o] + bbo[1,o],10) .+ (xo[2,o] - bbo[2,o]))\n",
    "    plot(linspace(xo[1,o] - bbo[1,o],xo[1,o] + bbo[1,o],10),\n",
    "        0.*linspace(xo[1,o] - bbo[1,o],xo[1,o] + bbo[1,o],10) .+ (xo[2,o] + bbo[2,o]))\n",
    "\n",
    "    # left and right lines\n",
    "    plot(0.*linspace(xo[2,o] - bbo[2,o],xo[2,o] + bbo[2,o],10) .+ (xo[1,o] - bbo[1,o]),\n",
    "        linspace(xo[2,o] - bbo[2,o],xo[2,o] + bbo[2,o],10))\n",
    "    plot(0.*linspace(xo[2,o] - bbo[2,o],xo[2,o] + bbo[2,o],10) .+ (xo[1,o] + bbo[1,o]),\n",
    "        linspace(xo[2,o] - bbo[2,o],xo[2,o] + bbo[2,o],10))\n",
    "end\n",
    "axis(\"equal\");"
   ]
  },
  {
   "cell_type": "markdown",
   "metadata": {},
   "source": [
    "Remember to make sure your code compiles! I will be running your code!"
   ]
  },
  {
   "cell_type": "markdown",
   "metadata": {
    "collapsed": true
   },
   "source": [
    "## 4. Results and discussion ##\n",
    "\n",
    "Here, you display and discuss the results. Show figures, plots, images, trade-off curves, or whatever else you can think of to best illustrate your results. The discussion should explain what the results mean, and how to interpret them. You should also explain the limitations of your approach/model and how sensitive your results are to the assumptions you made.\n",
    "\n",
    "Use plots (see `PyPlot` examples from class), or you can display results in a table like this:\n",
    "\n",
    "| Tables        | Are           | Cool  |\n",
    "| ------------- |:-------------:| -----:|\n",
    "| col 3 is      | right-aligned |\\$1600 |\n",
    "| col 2 is      | centered      |  \\$12 |\n",
    "| zebra stripes | are neat      |   \\$1 |\n",
    "\n",
    "### 4.A. Feel free to add subsections\n",
    "\n",
    "#### 4.A.a. or subsubsections"
   ]
  },
  {
   "cell_type": "markdown",
   "metadata": {
    "collapsed": true
   },
   "source": [
    "## 5. Conclusion ##\n",
    "\n",
    "Summarize your findings and your results, and talk about at least one possible future direction; something that might be interesting to pursue as a follow-up to your project."
   ]
  },
  {
   "cell_type": "code",
   "execution_count": null,
   "metadata": {
    "collapsed": true
   },
   "outputs": [],
   "source": []
  }
 ],
 "metadata": {
  "anaconda-cloud": {},
  "kernelspec": {
   "display_name": "Julia 0.5.0",
   "language": "julia",
   "name": "julia-0.5"
  },
  "language_info": {
   "file_extension": ".jl",
   "mimetype": "application/julia",
   "name": "julia",
   "version": "0.5.0"
  }
 },
 "nbformat": 4,
 "nbformat_minor": 0
}
