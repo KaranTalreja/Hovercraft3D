{
 "cells": [
  {
   "cell_type": "code",
   "execution_count": 1,
   "metadata": {
    "collapsed": false
   },
   "outputs": [
    {
     "data": {
      "text/plain": [
       "solveMaze (generic function with 1 method)"
      ]
     },
     "execution_count": 1,
     "metadata": {},
     "output_type": "execute_result"
    }
   ],
   "source": [
    "using JuMP, Gurobi\n",
    "\n",
    "function solveMaze(numWayPoints, numHoverCrafts, numObstacles, A, bo, inputWayPoints, avoidObstacles\n",
    "    , avoidHoverCraftsCollision, lambda)\n",
    "    \n",
    "    m = Model(solver = GurobiSolver(OutputFlag=0))\n",
    "\n",
    "    # Variable for resulting position for each hovercraft\n",
    "    @variable(m, x[1:2,1:T[numWayPoints],1:numHoverCrafts])\n",
    "\n",
    "    # Variable for resulting velocity for each hovercraft\n",
    "    @variable(m, v[1:2,1:T[numWayPoints],1:numHoverCrafts])\n",
    "\n",
    "    # Variable for thruster input for each hovercraft\n",
    "    @variable(m, u[1:2,1:T[numWayPoints],1:numHoverCrafts])\n",
    "\n",
    "    # Binary variables for logical constraints to be imposed to implement\n",
    "    # static obstacle avoidance. This is a four dimensional variable where\n",
    "    # first dimension: number of obstacles\n",
    "    # second dimension: 1 each for x_min, x_max, y_min and y_max for an obstacle\n",
    "    # third dimension: Number of time steps.\n",
    "    # fourth dimension: Number of hovercrafts\n",
    "    @variable(m, obstacle[1:numObstacles,1:4,1:T[numWayPoints],1:numHoverCrafts], Bin)\n",
    "\n",
    "    # Binary variables for logical constraints to be imposed to implement\n",
    "    # collision avoidance between hovercrafts. This is a four dimensional variable where\n",
    "    # first dimension: 1 each for x_min, x_max, y_min and y_max for an obstacle\n",
    "    # second dimension: Number of time steps.\n",
    "    # third dimension: Number of hovercrafts.\n",
    "    # fourth dimension: Number of hovercrafts.\n",
    "    @variable(m, obstacleS[1:4,1:T[numWayPoints],1:numHoverCrafts,1:numHoverCrafts], Bin)\n",
    "    \n",
    "    vMax = 1\n",
    "    \n",
    "    # satisfy the dynamics (with zero initial velocity)\n",
    "    @constraint(m, v[:,1,:] .== [0;0])\n",
    "\n",
    "    # Simple linear model of hovercraft dynamics imposed on each timestep.\n",
    "    # Change in resulting position should be equal to the velocity at that instant.\n",
    "    # Change in resulting velocity should be equal to the thruster input at that instant.\n",
    "    for t in 1:T[numWayPoints]-1\n",
    "        @constraint(m, x[:,t+1,:] .== x[:,t,:] + v[:,t,:])\n",
    "        @constraint(m, v[:,t+1,:] .== v[:,t,:] + u[:,t,:])\n",
    "    end\n",
    "\n",
    "    # Constraint on each hovercraft for each time step to be in the maximum velocity\n",
    "    # limit.\n",
    "    for n in 1:numHoverCrafts\n",
    "        for t in 1:T[numWayPoints]\n",
    "            @constraint(m, sum(v[:,t,n].^2) <= vMax)\n",
    "        end\n",
    "    end\n",
    "    \n",
    "    # hit all the waypoints\n",
    "    for n in 1:numHoverCrafts\n",
    "        for t in [1 numWayPoints]\n",
    "            @constraint(m, x[:,T[t],n] .== inputWayPoints[:,t,n])\n",
    "        end\n",
    "    end\n",
    "\n",
    "    # Avoid all obstacles\n",
    "    if avoidObstacles\n",
    "        for n in 1:numHoverCrafts\n",
    "            for o in 1:numObstacles\n",
    "                for t in 1:T[numWayPoints]-1\n",
    "                    @constraint(m, A*x[:,t,n] .<= bo[:,o] .+ 1000*obstacle[o,:,t,n])\n",
    "                    # Constraint to relax no more than three constraints on the resulting position\n",
    "                    # of each hovercraft. This ensures that all hovercrafts stay out of the bounding\n",
    "                    # box of each obstacle.\n",
    "                    @constraint(m, sum(obstacle[o,i,t,n] for i in 1:4) <= 3)\n",
    "                end\n",
    "            end\n",
    "        end\n",
    "    end\n",
    "                \n",
    "    if avoidHoverCraftsCollision\n",
    "        for n1 in 1:(numHoverCrafts-1)\n",
    "            for n2 in (n1+1):numHoverCrafts\n",
    "                for t in 3:T[numWayPoints]-3\n",
    "                    @constraint(m, x[1,t,n1] <= x[1,t,n2] - .5 + 1000*obstacleS[1,t,n1,n2])\n",
    "                    @constraint(m, -x[1,t,n1] <= -(x[1,t,n2] + .5) + 1000*obstacleS[2,t,n1,n2])\n",
    "                    @constraint(m, x[2,t,n1] <= x[2,t,n2] - .5 + 1000*obstacleS[3,t,n1,n2])\n",
    "                    @constraint(m, -x[2,t,n1] <= -(x[2,t,n2] + .5) + 1000*obstacleS[4,t,n1,n2])\n",
    "                    @constraint(m, sum(obstacleS[i,t,n1,n2] for i in 1:4) <= 3)\n",
    "                end\n",
    "            end\n",
    "        end\n",
    "    end\n",
    "\n",
    "    # minimize 2-norm (THIS IS LEAST-SQUARES)\n",
    "    @objective(m, Min, sum(u.^2) + lambda*sum(sum((x[:,T[2:numWayPoints],n]-inputWayPoints[:,2:numWayPoints,n]).^2 for n in 1:numHoverCrafts)))\n",
    "    solve(m)\n",
    "    xopt=getvalue(x)\n",
    "    return xopt, getvalue(u), getobjectivevalue(m), getvalue(sum(u.^2)), getvalue(sum(sum((x[:,T[2:numWayPoints],n]-inputWayPoints[:,2:numWayPoints,n]).^2 for n in 1:numHoverCrafts)))\n",
    "end"
   ]
  },
  {
   "cell_type": "code",
   "execution_count": 2,
   "metadata": {
    "collapsed": false
   },
   "outputs": [
    {
     "data": {
      "text/plain": [
       "plotMazeSolution (generic function with 1 method)"
      ]
     },
     "execution_count": 2,
     "metadata": {},
     "output_type": "execute_result"
    }
   ],
   "source": [
    "using PyPlot\n",
    "\n",
    "function plotMazeSolution(xopt, numWayPoints, numHoverCrafts, numObstacles, A, bo, inputWayPoints, xo)\n",
    "    figure(figsize=(12,4))\n",
    "    for n in 1:numHoverCrafts\n",
    "        plot( xopt[1,:,n][:], xopt[2,:,n][:],\".-\", markersize=4 )\n",
    "        plot( xopt[1,1:5:T[numWayPoints],n][:], xopt[2,1:5:T[numWayPoints],n][:],\"k.\", markersize=4 )\n",
    "    end\n",
    "\n",
    "    for n in 1:numHoverCrafts\n",
    "        plot(inputWayPoints[1,:,n], inputWayPoints[2,:,n], \"r.\", markersize=12 )\n",
    "    end\n",
    "\n",
    "    for o in 1:numObstacles\n",
    "        # lower and upper lines\n",
    "        plot(linspace(xo[1,o] - bbo[1,o],xo[1,o] + bbo[1,o],10),\n",
    "            0.*linspace(xo[1,o] - bbo[1,o],xo[1,o] + bbo[1,o],10) .+ (xo[2,o] - bbo[2,o]))\n",
    "        plot(linspace(xo[1,o] - bbo[1,o],xo[1,o] + bbo[1,o],10),\n",
    "            0.*linspace(xo[1,o] - bbo[1,o],xo[1,o] + bbo[1,o],10) .+ (xo[2,o] + bbo[2,o]))\n",
    "\n",
    "        # left and right lines\n",
    "        plot(0.*linspace(xo[2,o] - bbo[2,o],xo[2,o] + bbo[2,o],10) .+ (xo[1,o] - bbo[1,o]),\n",
    "            linspace(xo[2,o] - bbo[2,o],xo[2,o] + bbo[2,o],10))\n",
    "        plot(0.*linspace(xo[2,o] - bbo[2,o],xo[2,o] + bbo[2,o],10) .+ (xo[1,o] + bbo[1,o]),\n",
    "            linspace(xo[2,o] - bbo[2,o],xo[2,o] + bbo[2,o],10))\n",
    "    end\n",
    "    axis(\"equal\");\n",
    "end"
   ]
  },
  {
   "cell_type": "code",
   "execution_count": 3,
   "metadata": {
    "collapsed": false
   },
   "outputs": [
    {
     "data": {
      "text/plain": [
       "0.1"
      ]
     },
     "execution_count": 3,
     "metadata": {},
     "output_type": "execute_result"
    }
   ],
   "source": [
    "# number of waypoints\n",
    "numWayPoints = 3\n",
    "\n",
    "# number of obstacles\n",
    "numObstacles = 1\n",
    "\n",
    "# number of hovercrafts\n",
    "numHoverCrafts = 3             \n",
    "\n",
    "# vector of timepoints\n",
    "T = zeros(Int,numWayPoints)\n",
    "\n",
    "# vector of waypoint locations, (x,y) locations of each waypoint\n",
    "inputWayPoints = zeros(2, numWayPoints, numHoverCrafts)\n",
    "\n",
    "# vector of obstacle locations, (x,y) locations of each obstacle\n",
    "inputObstacles = zeros(2, numObstacles)\n",
    "\n",
    "# bounding box around obstacle, (breadth, length) of the obstacle.\n",
    "# Breadth is added and subtracted from the x dimension of the location of the obstacle to\n",
    "# get upper and lower limits of obstacle respectivly.\n",
    "# Similalry for length.\n",
    "bbo = zeros(2, numObstacles)\n",
    "\n",
    "# Maximum velocity at which the hovercraft can travel.\n",
    "vMax = 1\n",
    "\n",
    "# Time instant at which the hovercraft should the waypoint\n",
    "T[1] = 1\n",
    "T[2] = 20\n",
    "T[3] = 40\n",
    "\n",
    "\n",
    "# define waypoints\n",
    "inputWayPoints[:,:,1] = [-5 10 20\n",
    "                        8 3 7]\n",
    "\n",
    "inputWayPoints[:,:,2] = [-5 10 20\n",
    "                        8 3 7]\n",
    "\n",
    "inputWayPoints[:,:,3] = [-5 10 20\n",
    "                        8 3 7]\n",
    "\n",
    "# define obstacles\n",
    "inputObstacles = [ 1.5 \n",
    "                   7.5 ]\n",
    "    \n",
    "    \n",
    "# define bounding box limits of the obstacles\n",
    "bbo = [ 1.5 \n",
    "        2.5 ]\n",
    "\n",
    "\n",
    "#inputObstacles = inputObstacles.*2\n",
    "#bbo = bbo.*2\n",
    "#inputObstacles = [inputObstacles.*1.2 inputObstacles[:,2:3].+[15;0] inputObstacles[:,5].+[15;0]]\n",
    "#bbo = [bbo.*1.2 bbo[:,2:3] bbo[:,5]]\n",
    "#numObstacles = numObstacles*2\n",
    "\n",
    "#inputObstacles = inputObstacles[:,1:8]\n",
    "#bbo = bbo[:,1:8]\n",
    "#numObstacles = numObstacles - 2\n",
    "\n",
    "# Matrix to write vectorized constraints for avoiding static obstacles\n",
    "A = [1 0;\n",
    "    -1 0;\n",
    "    0 1;\n",
    "    0 -1;]\n",
    "\n",
    "# Matrix to store upper and lower limits of the vectorized constraints\n",
    "bo = zeros(4, numObstacles)\n",
    "\n",
    "# This loop constructs b for the vectorized constraints Ax - b <= obstacles\n",
    "for i in 1:numObstacles\n",
    "    bo[1,i] = inputObstacles[1,i] - bbo[1,i]\n",
    "    bo[2,i] = -(inputObstacles[1,i] + bbo[1,i])\n",
    "    bo[3,i] = inputObstacles[2,i] - bbo[2,i]\n",
    "    bo[4,i] = -(inputObstacles[2,i] + bbo[2,i])\n",
    "end\n",
    "\n",
    "lambda = 100/1000"
   ]
  },
  {
   "cell_type": "code",
   "execution_count": null,
   "metadata": {
    "collapsed": false
   },
   "outputs": [],
   "source": [
    "xopt, uopt, objectivevalue, J1, J2 = solveMaze(numWayPoints, numHoverCrafts, numObstacles, A, bo, inputWayPoints, false, false, lambda)\n",
    "plotMazeSolution(xopt, numWayPoints, numHoverCrafts, numObstacles, A, bo, inputWayPoints, inputObstacles)"
   ]
  },
  {
   "cell_type": "code",
   "execution_count": null,
   "metadata": {
    "collapsed": false
   },
   "outputs": [],
   "source": [
    "xopt, uopt, objectivevalue, J1, J2 = solveMaze(numWayPoints, numHoverCrafts, numObstacles, A, bo, inputWayPoints, true, false, lambda)\n",
    "plotMazeSolution(xopt, numWayPoints, numHoverCrafts, numObstacles, A, bo, inputWayPoints, inputObstacles)"
   ]
  },
  {
   "cell_type": "code",
   "execution_count": null,
   "metadata": {
    "collapsed": false
   },
   "outputs": [],
   "source": [
    "xopt, uopt, objectivevalue, J1, J2 = solveMaze(numWayPoints, numHoverCrafts, numObstacles, A, bo, inputWayPoints, true, true, lambda)\n",
    "plotMazeSolution(xopt, numWayPoints, numHoverCrafts, numObstacles, A, bo, inputWayPoints, inputObstacles)"
   ]
  },
  {
   "cell_type": "code",
   "execution_count": null,
   "metadata": {
    "collapsed": true
   },
   "outputs": [],
   "source": []
  }
 ],
 "metadata": {
  "kernelspec": {
   "display_name": "Julia 0.5.1",
   "language": "julia",
   "name": "julia-0.5"
  },
  "language_info": {
   "file_extension": ".jl",
   "mimetype": "application/julia",
   "name": "julia",
   "version": "0.5.1"
  }
 },
 "nbformat": 4,
 "nbformat_minor": 2
}
