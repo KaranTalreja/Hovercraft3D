{
 "cells": [
  {
   "cell_type": "code",
   "execution_count": 5,
   "metadata": {
    "collapsed": false
   },
   "outputs": [
    {
     "data": {
      "text/plain": [
       "4-element Array{Float64,1}:\n",
       "  2.5\n",
       " -3.5\n",
       "  2.5\n",
       " -3.5"
      ]
     },
     "execution_count": 5,
     "metadata": {},
     "output_type": "execute_result"
    }
   ],
   "source": [
    "using JuMP, Gurobi, Ipopt,AmplNLWriter, NLopt\n",
    "using Mosek, Cbc\n",
    "    k = 4              # number of waypoints\n",
    "    T = zeros(Int,k)   # vector of timepoints\n",
    "    xw = zeros(2,k)    # vector of waypoint locations\n",
    "\n",
    "    T[1] = 1\n",
    "    T[2] = 20\n",
    "    T[3] = 50\n",
    "    T[4] = 60\n",
    "\n",
    "    # define waypoints\n",
    "    xw = [ 1   4   6   1\n",
    "           1   3   0   1 ]\n",
    "\n",
    "   # Obstacle at 3,3 as center with length and breadth of 1.\n",
    "   # x >= 2.5\n",
    "   # x <= 3.5\n",
    "   # y >= 2.5\n",
    "   # y <= 3.5\n",
    "   A = [1 0;\n",
    "        -1 0;\n",
    "        0 1;\n",
    "        0 -1;]\n",
    "   b = [2.5; -3.5; 2.5; -3.5]"
   ]
  },
  {
   "cell_type": "code",
   "execution_count": 6,
   "metadata": {
    "collapsed": false
   },
   "outputs": [
    {
     "name": "stdout",
     "output_type": "stream",
     "text": [
      "0.49030051290264964\n"
     ]
    }
   ],
   "source": [
    "    m = Model(solver = GurobiSolver(OutputFlag=0))\n",
    "    #m = Model(solver=AmplNLSolver(\"bonmin\"))\n",
    "    #m = Model(solver=AmplNLSolver(\"couenne\"))\n",
    "    #m = Model(solver=CbcSolver())\n",
    "    #m = Model(solver=NLoptSolver(algorithm=:LD_MMA))\n",
    "    #m = Model(solver=IpoptSolver())\n",
    "    @variable(m, x[1:2,1:T[k]])  # resulting position\n",
    "    @variable(m, v[1:2,1:T[k]])  # resulting velocity\n",
    "    @variable(m, u[1:2,1:T[k]])  # thruster input\n",
    "    @variable(m, obstacle[1:4,1:T[k]], Bin)\n",
    "\n",
    "    # satisfy the dynamics (with zero initial velocity)\n",
    "    @constraint(m, v[:,1] .== [0;0])\n",
    "\n",
    "    for t in 1:T[k]-1\n",
    "        @constraint(m, x[:,t+1] .== x[:,t] + v[:,t])\n",
    "        @constraint(m, v[:,t+1] .== v[:,t] + u[:,t])\n",
    "    end\n",
    "\n",
    "    for t in 1:T[k]-1\n",
    "        @constraint(m, A*x[:,t] .<= b .+ 1000*obstacle[:,t])\n",
    "        #@constraint(m, (x[1,t]) <= 2.5 + 1000*obstacle[1,t])\n",
    "        #@constraint(m, -(x[1,t]) <= -3.5 + 1000*obstacle[2,t])\n",
    "        #@constraint(m, (x[2,t]) <= 2.5 + 1000*obstacle[3,t])\n",
    "        #@constraint(m, -(x[2,t]) <= -3.5 + 1000*obstacle[4,t])\n",
    "        @constraint(m, sum(obstacle[i,t] for i in 1:4) <= 3)\n",
    "    end\n",
    "\n",
    "    @expression(m,distanceTravelled, sum(sum((x[:,t+1] - x[:,t]).^2) for t in 1:T[k]-1))\n",
    "    # hit all the waypoints\n",
    "    for i in [1 k]\n",
    "        @constraint(m, x[:,T[i]] .== xw[:,i])\n",
    "    end\n",
    "\n",
    "    # minimize 2-norm (THIS IS LEAST-SQUARES)\n",
    "    λ = 100\n",
    "    β = .1\n",
    "    @objective(m, Min, sum(u.^2) + λ*sum( (x[:,T[2:k]]-xw[:,2:k]).^2  ) + β*distanceTravelled)\n",
    "    solve(m)\n",
    "    \n",
    "    xopt = getvalue(x)\n",
    "    obstacleOpt = getvalue(obstacle)\n",
    "    println(getobjectivevalue(m))\n",
    "    #m"
   ]
  },
  {
   "cell_type": "code",
   "execution_count": 7,
   "metadata": {
    "collapsed": false
   },
   "outputs": [
    {
     "name": "stdout",
     "output_type": "stream",
     "text": [
      "[0.0,1.0,0.0,1.0]\n",
      "[1.29104,1.17089]\n",
      "4.134787050457913\n"
     ]
    }
   ],
   "source": [
    "println(obstacleOpt[:,5])\n",
    "println(xopt[:,5])\n",
    "println(getvalue(distanceTravelled))"
   ]
  },
  {
   "cell_type": "code",
   "execution_count": 8,
   "metadata": {
    "collapsed": false
   },
   "outputs": [
    {
     "data": {
      "image/png": "[encoded data removed]",
      "text/plain": [
       "PyPlot.Figure(PyObject <matplotlib.figure.Figure object at 0x308050490>)"
      ]
     },
     "metadata": {},
     "output_type": "display_data"
    }
   ],
   "source": [
    "using PyPlot\n",
    "figure(figsize=(12,4))\n",
    "plot( xopt[1,:][:], xopt[2,:][:], \"b.-\", markersize=4 )\n",
    "plot( xw[1,:], xw[2,:], \"r.\", markersize=12 )\n",
    "plot( 3, 3, \"g.\", markersize=12 )\n",
    "axis(\"equal\")\n",
    "axis((1.,8.,-.5,3.5));"
   ]
  },
  {
   "cell_type": "code",
   "execution_count": null,
   "metadata": {
    "collapsed": true
   },
   "outputs": [],
   "source": []
  }
 ],
 "metadata": {
  "kernelspec": {
   "display_name": "Julia 0.5.0",
   "language": "julia",
   "name": "julia-0.5"
  },
  "language_info": {
   "file_extension": ".jl",
   "mimetype": "application/julia",
   "name": "julia",
   "version": "0.5.0"
  }
 },
 "nbformat": 4,
 "nbformat_minor": 2
}
