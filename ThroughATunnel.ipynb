{
 "cells": [
  {
   "cell_type": "code",
   "execution_count": 3,
   "metadata": {
    "collapsed": false
   },
   "outputs": [],
   "source": [
    "using JuMP, Gurobi\n",
    "    k = 2              # number of waypoints\n",
    "    ko = 5             # number of obstacles\n",
    "    N = 1              # number of hovercrafts\n",
    "    T = zeros(Int,k)   # vector of timepoints\n",
    "    xw = zeros(2,k,N)  # vector of waypoint locations\n",
    "    xo = zeros(2,ko)   # vector of obstacle locations\n",
    "    bbo = zeros(2,ko)  # bounding box around obstacle\n",
    "\n",
    "\n",
    "    \n",
    "    T[1] = 1\n",
    "    T[2] = 60\n",
    "    #T[3] = 40\n",
    "    #T[4] = 55\n",
    "    #T[5] = 80\n",
    "\n",
    "    # define waypoints\n",
    "    xw[:,:,1] = [0  30\n",
    "                 15 10]\n",
    "    #xw[:,:,2] = [5  25\n",
    "    #             5  5]\n",
    "    \n",
    "    xo = [ 2.5  5  4    2.5   4\n",
    "           3.5  7  1   9.5   12]\n",
    "    \n",
    "    bbo = [ .5  1 2  0.5   2\n",
    "            2.5 2 1  2.0  1]\n",
    "\n",
    "    xo = xo.*2\n",
    "    bbo = bbo.*2\n",
    "    xo = [xo.*1.2 xo.+[15;0]]\n",
    "    bbo = [bbo.*1.2 bbo]\n",
    "    ko = ko*2\n",
    "\n",
    "    A = [1 0;\n",
    "        -1 0;\n",
    "        0 1;\n",
    "        0 -1;]\n",
    "    bo = zeros(4,ko)\n",
    "\n",
    "    for i in 1:ko\n",
    "        bo[1,i] = xo[1,i] - bbo[1,i]\n",
    "        bo[2,i] = -(xo[1,i] + bbo[1,i])\n",
    "        bo[3,i] = xo[2,i] - bbo[2,i]\n",
    "        bo[4,i] = -(xo[2,i] + bbo[2,i])\n",
    "    end;"
   ]
  },
  {
   "cell_type": "code",
   "execution_count": null,
   "metadata": {
    "collapsed": false
   },
   "outputs": [],
   "source": [
    "    m = Model(solver = GurobiSolver(OutputFlag=0))\n",
    "    @variable(m, x[1:2,1:T[k],1:N])  # resulting position\n",
    "    @variable(m, v[1:2,1:T[k],1:N])  # resulting velocity\n",
    "    @variable(m, u[1:2,1:T[k],1:N])  # thruster input\n",
    "    @variable(m, obstacle[1:ko,1:4,1:T[k],1:N], Bin)\n",
    "    @variable(m, obstacleS[1:4,1:T[k],1:N,1:N], Bin)\n",
    "    vMax = 1\n",
    "    # satisfy the dynamics (with zero initial velocity)\n",
    "    @constraint(m, v[:,1,:] .== [0;0])\n",
    "\n",
    "    for t in 1:T[k]-1\n",
    "        @constraint(m, x[:,t+1,:] .== x[:,t,:] + v[:,t,:])\n",
    "        @constraint(m, v[:,t+1,:] .== v[:,t,:] + u[:,t,:])\n",
    "    end\n",
    "    # Avoid all obstacles\n",
    "    for n in 1:N\n",
    "        for o in 1:ko\n",
    "            for t in 1:T[k]-1\n",
    "                @constraint(m, A*x[:,t,n] .<= bo[:,o] .+ 1000*obstacle[o,:,t,n])\n",
    "                @constraint(m, sum(obstacle[o,i,t,n] for i in 1:4) <= 3)\n",
    "            end\n",
    "        end\n",
    "    end\n",
    "            \n",
    "    for n1 in 1:N\n",
    "        for n2 in 1:N\n",
    "            if n1 != n2\n",
    "                for t in 3:T[k]-3\n",
    "                    @constraint(m, x[1,t,n1] <= x[1,t,n2] - .5 + 1000*obstacleS[1,t,n1,n2])\n",
    "                    @constraint(m, -x[1,t,n1] <= -(x[1,t,n2] + .5) + 1000*obstacleS[2,t,n1,n2])\n",
    "                    @constraint(m, x[2,t,n1] <= x[2,t,n2] - .5 + 1000*obstacleS[3,t,n1,n2])\n",
    "                    @constraint(m, -x[2,t,n1] <= -(x[2,t,n2] + .5) + 1000*obstacleS[4,t,n1,n2])\n",
    "                    @constraint(m, sum(obstacleS[i,t,n1,n2] for i in 1:4) <= 3)\n",
    "                end\n",
    "            end\n",
    "        end\n",
    "    end\n",
    "    \n",
    "    # hit all the waypoints\n",
    "    for n in 1:N\n",
    "        for t in [1 k]\n",
    "            @constraint(m, x[:,T[t],n] .== xw[:,t,n])\n",
    "        end\n",
    "    end\n",
    "            \n",
    "\n",
    "    for n in 1:N\n",
    "        for t in 1:T[k]\n",
    "            @constraint(m, sum(v[:,t,n].^2) <= vMax)\n",
    "        end\n",
    "    end\n",
    "\n",
    "\n",
    "    # minimize 2-norm (THIS IS LEAST-SQUARES)\n",
    "    λ = 100/1000\n",
    "    @objective(m, Min, sum(u.^2) + λ*sum(sum((x[:,T[2:k],n]-xw[:,2:k,n]).^2 for n in 1:N)))\n",
    "    solve(m)\n",
    "    xopt=getvalue(x)"
   ]
  },
  {
   "cell_type": "code",
   "execution_count": 4,
   "metadata": {
    "collapsed": false
   },
   "outputs": [
    {
     "data": {
      "image/png": "[encoded data removed]",
      "text/plain": [
       "PyPlot.Figure(PyObject <matplotlib.figure.Figure object at 0x324450610>)"
      ]
     },
     "metadata": {},
     "output_type": "display_data"
    }
   ],
   "source": [
    "using PyPlot\n",
    "figure(figsize=(12,4))\n",
    "for n in 1:N \n",
    "    #plot( xopt[1,:,n][:], xopt[2,:,n][:],\".-\", markersize=4 )\n",
    "end\n",
    "\n",
    "for n in 1:N\n",
    "    plot( xw[1,:,n], xw[2,:,n], \"r.\", markersize=12 )\n",
    "end\n",
    "\n",
    "for o in 1:ko\n",
    "    # lower and upper lines\n",
    "    plot(linspace(xo[1,o] - bbo[1,o],xo[1,o] + bbo[1,o],10),\n",
    "        0.*linspace(xo[1,o] - bbo[1,o],xo[1,o] + bbo[1,o],10) .+ (xo[2,o] - bbo[2,o]))\n",
    "    plot(linspace(xo[1,o] - bbo[1,o],xo[1,o] + bbo[1,o],10),\n",
    "        0.*linspace(xo[1,o] - bbo[1,o],xo[1,o] + bbo[1,o],10) .+ (xo[2,o] + bbo[2,o]))\n",
    "\n",
    "    # left and right lines\n",
    "    plot(0.*linspace(xo[2,o] - bbo[2,o],xo[2,o] + bbo[2,o],10) .+ (xo[1,o] - bbo[1,o]),\n",
    "        linspace(xo[2,o] - bbo[2,o],xo[2,o] + bbo[2,o],10))\n",
    "    plot(0.*linspace(xo[2,o] - bbo[2,o],xo[2,o] + bbo[2,o],10) .+ (xo[1,o] + bbo[1,o]),\n",
    "        linspace(xo[2,o] - bbo[2,o],xo[2,o] + bbo[2,o],10))\n",
    "end\n",
    "axis(\"equal\");"
   ]
  },
  {
   "cell_type": "code",
   "execution_count": null,
   "metadata": {
    "collapsed": true
   },
   "outputs": [],
   "source": []
  }
 ],
 "metadata": {
  "kernelspec": {
   "display_name": "Julia 0.5.0",
   "language": "julia",
   "name": "julia-0.5"
  },
  "language_info": {
   "file_extension": ".jl",
   "mimetype": "application/julia",
   "name": "julia",
   "version": "0.5.0"
  }
 },
 "nbformat": 4,
 "nbformat_minor": 2
}
