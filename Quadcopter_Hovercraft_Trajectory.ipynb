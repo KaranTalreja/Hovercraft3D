{
 "cells": [
  {
   "cell_type": "markdown",
   "metadata": {},
   "source": [
    "# QuadCopter Hovercraft Trajectory "
   ]
  },
  {
   "cell_type": "code",
   "execution_count": 1,
   "metadata": {
    "collapsed": false
   },
   "outputs": [],
   "source": [
    "using JuMP\n",
    "using Ipopt,AmplNLWriter, NLopt, Gurobi, Mosek"
   ]
  },
  {
   "cell_type": "markdown",
   "metadata": {},
   "source": [
    "## Hovercraft Problem Data "
   ]
  },
  {
   "cell_type": "code",
   "execution_count": 2,
   "metadata": {
    "collapsed": false
   },
   "outputs": [],
   "source": [
    "k = 3             # number of waypoints\n",
    "T = zeros(Int, k) # vector of timepoints\n",
    "xw = zeros(3,k)   # vector of waypoint locations\n",
    "\n",
    "T[1] = 1\n",
    "T[2] = 3\n",
    "T[3] = 5\n",
    "\n",
    "# define waypoints from origin (0,0,0) to a height of 1 meter (0,0,1)\n",
    "xw = [ 0 0   0\n",
    "       0 0.5 1\n",
    "       0 1   1];"
   ]
  },
  {
   "cell_type": "markdown",
   "metadata": {},
   "source": [
    "## Quadcopter Model Data "
   ]
  },
  {
   "cell_type": "code",
   "execution_count": 3,
   "metadata": {
    "collapsed": false
   },
   "outputs": [],
   "source": [
    "# gravitational acceleration\n",
    "g = 9.81\n",
    "\n",
    "# mass of quadcopter\n",
    "mass = 0.468\n",
    "\n",
    "# distance between rotor and center of mass of quadcopter\n",
    "l = 0.225\n",
    "\n",
    "# lift constant\n",
    "K = 2.980*10.0^-6\n",
    "\n",
    "# drag constant\n",
    "b = 1.140*10.0^-7\n",
    "\n",
    "# Inertial moment of the rotor\n",
    "I_M = 3.357*10.0^-5\n",
    "\n",
    "# Drag force coeffecients\n",
    "Ax = 0.25\n",
    "Ay = 0.25\n",
    "Az = 0.25\n",
    "\n",
    "# Quadcopter Inertia\n",
    "Ixx = 4.856*10.0^-3\n",
    "Iyy = 4.856*10.0^-3\n",
    "Izz = 8.801*10.0^-3\n",
    ";"
   ]
  },
  {
   "cell_type": "markdown",
   "metadata": {},
   "source": [
    "## Quadcopter Mathematical Model "
   ]
  },
  {
   "cell_type": "code",
   "execution_count": 4,
   "metadata": {
    "collapsed": false
   },
   "outputs": [],
   "source": [
    "# Commented to make it simple\n",
    "#function Sin(x)\n",
    "#    return sin(x)\n",
    "#end\n",
    "\n",
    "#function Cos(x)\n",
    "#    return cos(x)\n",
    "#end\n",
    "\n",
    "#function Tan(x)\n",
    "#    return tan(x)\n",
    "#end\n",
    "\n",
    "#JuMP.register(:S, 1, Sin, autodiff=true)\n",
    "#JuMP.register(:C, 1, Cos, autodiff=true)\n",
    "#JuMP.register(:T, 1, Tan, autodiff=true);"
   ]
  },
  {
   "cell_type": "code",
   "execution_count": 5,
   "metadata": {
    "collapsed": false
   },
   "outputs": [],
   "source": [
    "#m = Model(solver=IpoptSolver())\n",
    "m = Model(solver=AmplNLSolver(\"bonmin\"))\n",
    "#m = Model(solver=NLoptSolver(algorithm=:LD_MMA))\n",
    "#m = Model(solver=GurobiSolver())\n",
    "#m = Model(solver=MosekSolver())\n",
    "\n",
    "    # postion [x,y,z] in inertial frame\n",
    "@variable(m, ξ[1:3, 1:T[k]])\n",
    "@NLexpression(m, x[i=1:T[k]], ξ[1,i])\n",
    "@NLexpression(m, y[i=1:T[k]], ξ[2,i])\n",
    "@NLexpression(m, z[i=1:T[k]], ξ[3,i])\n",
    "\n",
    "# attitude [ϕ,θ,ψ] in inertial frame\n",
    "@variable(m, η[1:3, 1:T[k]])\n",
    "@NLexpression(m, ϕ[i=1:T[k]], η[1,i])\n",
    "@NLexpression(m, θ[i=1:T[k]], η[2,i])\n",
    "@NLexpression(m, ψ[i=1:T[k]], η[3,i])\n",
    "\n",
    "# linear velocities in the inertial frame\n",
    "@variable(m, -1 <= LVi[1:3, 1:T[k]] <= 1)\n",
    "\n",
    "# linear acceleration in the inertial frame\n",
    "@variable(m, -2 <= LAi[1:3, 1:T[k]] <= 2)\n",
    "\n",
    "# angular acceleration in the inertial frame\n",
    "@variable(m, -30 <= AAi[1:3, 1:T[k]] <= 30)\n",
    "\n",
    "# angular velocities in the inertial frame\n",
    "@variable(m, -30 <= AVi[1:3, 1:T[k]] <= 30)\n",
    "\n",
    "# linear velocities in the body frame\n",
    "@variable(m, -30 <= LVb[1:3, 1:T[k]] <= 30)\n",
    "\n",
    "# linear acceleration in the body frame\n",
    "@variable(m, -30 <= LAb[1:3, 1:T[k]] <= 30)\n",
    "\n",
    "# angular acceleration in the body frame\n",
    "@variable(m, -30 <= AAb[1:3, 1:T[k]] <= 30)\n",
    "\n",
    "# angular velocities in the body frame\n",
    "@variable(m, -30 <= AVb[1:3, 1:T[k]] <= 30)\n",
    "@NLexpression(m, p[i=1:T[k]], AVb[1,i])\n",
    "@NLexpression(m, q[i=1:T[k]], AVb[2,i])\n",
    "@NLexpression(m, r[i=1:T[k]], AVb[3,i])\n",
    "\n",
    "# Angular velocity of rotor\n",
    "@variable(m, 0 <= ωSq[1:4, 1:T[k]] <= 10)\n",
    "\n",
    "# Rotor force generated in quad's frame of reference\n",
    "@NLexpression(m, f1[i=1:T[k]], K*ωSq[1,i])\n",
    "@NLexpression(m, f2[i=1:T[k]], K*ωSq[2,i])\n",
    "@NLexpression(m, f3[i=1:T[k]], K*ωSq[3,i])\n",
    "@NLexpression(m, f4[i=1:T[k]], K*ωSq[4,i])\n",
    "\n",
    "# Thrust in body's frame of reference\n",
    "@NLexpression(m, TB3[i=1:T[k]], f1[i] + f2[i] + f3[i] + f4[i])\n",
    "\n",
    "# Rotor force generated in quad's frame of reference\n",
    "@NLexpression(m, τM1[i=1:T[k]], b*ωSq[1,i])\n",
    "@NLexpression(m, τM2[i=1:T[k]], b*ωSq[2,i])\n",
    "@NLexpression(m, τM3[i=1:T[k]], b*ωSq[3,i])\n",
    "@NLexpression(m, τM4[i=1:T[k]], b*ωSq[4,i])\n",
    "\n",
    "# Torque in body's frame of reference\n",
    "@NLexpression(m, τbϕ[i=1:T[k]] , l*K*(-ωSq[2,i] + ωSq[4,i]))\n",
    "@NLexpression(m, τbθ[i=1:T[k]] , l*K*(-ωSq[1,i] + ωSq[3,i]))\n",
    "@NLexpression(m, τbψ[i=1:T[k]] , τM1[i] + τM2[i] + τM3[i] + τM4[i])\n",
    ";"
   ]
  },
  {
   "cell_type": "code",
   "execution_count": 6,
   "metadata": {
    "collapsed": false
   },
   "outputs": [],
   "source": [
    "# Rotation Matrix from Inertial to the Body Frame\n",
    "@NLexpression(m, R11[i=1:T[k]], cos(ψ[i])*cos(θ[i]))\n",
    "@NLexpression(m, R12[i=1:T[k]], cos(ψ[i])*sin(θ[i])*sin(ϕ[i]) - sin(ψ[i])*cos(ϕ[i]))\n",
    "@NLexpression(m, R13[i=1:T[k]], cos(ψ[i])*sin(θ[i])*cos(ϕ[i]) + sin(ψ[i])*sin(ϕ[i]))\n",
    "@NLexpression(m, R21[i=1:T[k]], sin(ψ[i])*cos(θ[i]))\n",
    "@NLexpression(m, R22[i=1:T[k]], sin(ψ[i])*sin(θ[i])*sin(ϕ[i]) + cos(ψ[i])*cos(ϕ[i]))\n",
    "@NLexpression(m, R23[i=1:T[k]], sin(ψ[i])*sin(θ[i])*cos(ϕ[i]) - cos(ψ[i])*sin(ϕ[i]))\n",
    "@NLexpression(m, R31[i=1:T[k]], -sin(θ[i]))\n",
    "@NLexpression(m, R32[i=1:T[k]], cos(θ[i])*sin(ϕ[i]))\n",
    "@NLexpression(m, R33[i=1:T[k]], cos(θ[i])*cos(ϕ[i]))\n",
    "\n",
    "# Simplified\n",
    "#@NLexpression(m, R11[i=1:T[k]], 1)\n",
    "#@NLexpression(m, R12[i=1:T[k]], (θ[i])*(ϕ[i]) - (ψ[i]))\n",
    "#@NLexpression(m, R13[i=1:T[k]], (θ[i]) + (ψ[i])*(ϕ[i]))\n",
    "#@NLexpression(m, R21[i=1:T[k]], (ψ[i]))\n",
    "#@NLexpression(m, R22[i=1:T[k]], (ψ[i])*(θ[i])*(ϕ[i]) + 1)\n",
    "#@NLexpression(m, R23[i=1:T[k]], (ψ[i])*(θ[i]) - (ϕ[i]))\n",
    "#@NLexpression(m, R31[i=1:T[k]], -(θ[i]))\n",
    "#@NLexpression(m, R32[i=1:T[k]], (ϕ[i]))\n",
    "#@NLexpression(m, R33[i=1:T[k]], 1)\n",
    ";"
   ]
  },
  {
   "cell_type": "code",
   "execution_count": 7,
   "metadata": {
    "collapsed": false
   },
   "outputs": [],
   "source": [
    "# Transformation matrix for angular velocities from inertial frame to body frame\n",
    "@NLexpression(m, W11[i=1:T[k]], 1)\n",
    "@NLexpression(m, W12[i=1:T[k]], 0)\n",
    "@NLexpression(m, W13[i=1:T[k]], -sin(θ[i]))\n",
    "@NLexpression(m, W21[i=1:T[k]], 0)\n",
    "@NLexpression(m, W22[i=1:T[k]], cos(ϕ[i]))\n",
    "@NLexpression(m, W23[i=1:T[k]], cos(θ[i])*sin(ϕ[i]))\n",
    "@NLexpression(m, W31[i=1:T[k]], 0)\n",
    "@NLexpression(m, W32[i=1:T[k]], -sin(ϕ[i]))\n",
    "@NLexpression(m, W33[i=1:T[k]], cos(θ[i])*cos(ϕ[i]))\n",
    "# Simplified\n",
    "#@NLexpression(m, W11[i=1:T[k]], 1)\n",
    "#@NLexpression(m, W12[i=1:T[k]], 0)\n",
    "#@NLexpression(m, W13[i=1:T[k]], -(θ[i]))\n",
    "#@NLexpression(m, W21[i=1:T[k]], 0)\n",
    "#@NLexpression(m, W22[i=1:T[k]], 1)\n",
    "#@NLexpression(m, W23[i=1:T[k]], (ϕ[i]))\n",
    "#@NLexpression(m, W31[i=1:T[k]], 0)\n",
    "#@NLexpression(m, W32[i=1:T[k]], -(ϕ[i]))\n",
    "#@NLexpression(m, W33[i=1:T[k]], 1)\n",
    "\n",
    "# Transformation matrix for angular velocities from body frame to inertial frame\n",
    "@NLexpression(m, Winv11[i=1:T[k]], 1)\n",
    "@NLexpression(m, Winv12[i=1:T[k]], sin(ϕ[i])*tan(θ[i]))\n",
    "@NLexpression(m, Winv13[i=1:T[k]], cos(ϕ[i])*tan(θ[i]))\n",
    "@NLexpression(m, Winv21[i=1:T[k]], 0)\n",
    "@NLexpression(m, Winv22[i=1:T[k]], cos(ϕ[i]))\n",
    "@NLexpression(m, Winv23[i=1:T[k]], -sin(ϕ[i]))\n",
    "@NLexpression(m, Winv31[i=1:T[k]], 0)\n",
    "@NLexpression(m, Winv32[i=1:T[k]], sin(ϕ[i])/cos(θ[i]))\n",
    "@NLexpression(m, Winv33[i=1:T[k]], cos(ϕ[i])/cos(θ[i]));\n",
    "# Simplified\n",
    "#@NLexpression(m, Winv11[i=1:T[k]], 1)\n",
    "#@NLexpression(m, Winv12[i=1:T[k]], (ϕ[i])*(θ[i]))\n",
    "#@NLexpression(m, Winv13[i=1:T[k]], (θ[i]))\n",
    "#@NLexpression(m, Winv21[i=1:T[k]], 0)\n",
    "#@NLexpression(m, Winv22[i=1:T[k]], 1)\n",
    "#@NLexpression(m, Winv23[i=1:T[k]], -(ϕ[i]))\n",
    "#@NLexpression(m, Winv31[i=1:T[k]], 0)\n",
    "#@NLexpression(m, Winv32[i=1:T[k]], (ϕ[i]))\n",
    "#@NLexpression(m, Winv33[i=1:T[k]], 1);\n",
    "\n",
    "# Differential Transformation matrix for angular velocities from body frame to inertial frame\n",
    "@NLexpression(m, dWinv11[i=1:T[k]], 0)\n",
    "@NLexpression(m, dWinv12[i=1:T[k]], AVi[1,i]*cos(ϕ[i])*tan(θ[i]) + AVi[2,i]*sin(ϕ[i])/cos(θ[i])^2)\n",
    "@NLexpression(m, dWinv13[i=1:T[k]], -AVi[1,i]*sin(ϕ[i])*cos(θ[i]) + AVi[2,i]*cos(ϕ[i])/cos(θ[i])^2)\n",
    "@NLexpression(m, dWinv21[i=1:T[k]], 0)\n",
    "@NLexpression(m, dWinv22[i=1:T[k]], -AVi[1,i]*sin(ϕ[i]))\n",
    "@NLexpression(m, dWinv23[i=1:T[k]], -AVi[1,i]*cos(ϕ[i]))\n",
    "@NLexpression(m, dWinv31[i=1:T[k]], 0)\n",
    "@NLexpression(m, dWinv32[i=1:T[k]], AVi[1,i]*cos(ϕ[i])/cos(θ[i]) + AVi[1,i]*sin(ϕ[i])*tan(θ[i])/cos(θ[i]))\n",
    "@NLexpression(m, dWinv33[i=1:T[k]], -AVi[1,i]*sin(ϕ[i])/cos(θ[i]) + AVi[2,i]*cos(ϕ[i])*tan(θ[i])/cos(θ[i]));\n",
    "# Simplified\n",
    "#@NLexpression(m, dWinv11[i=1:T[k]], 0)\n",
    "#@NLexpression(m, dWinv12[i=1:T[k]], AVi[1,i]*(θ[i]) + AVi[2,i]*(ϕ[i]))\n",
    "#@NLexpression(m, dWinv13[i=1:T[k]], -AVi[1,i]*(ϕ[i]) + AVi[2,i])\n",
    "#@NLexpression(m, dWinv21[i=1:T[k]], 0)\n",
    "#@NLexpression(m, dWinv22[i=1:T[k]], -AVi[1,i]*(ϕ[i]))\n",
    "#@NLexpression(m, dWinv23[i=1:T[k]], -AVi[1,i])\n",
    "#@NLexpression(m, dWinv31[i=1:T[k]], 0)\n",
    "#@NLexpression(m, dWinv32[i=1:T[k]], AVi[1,i] + AVi[1,i]*(ϕ[i])*(θ[i]))\n",
    "#@NLexpression(m, dWinv33[i=1:T[k]], -AVi[1,i]*(ϕ[i]) + AVi[2,i]*(θ[i]));"
   ]
  },
  {
   "cell_type": "markdown",
   "metadata": {},
   "source": [
    "### Constraints"
   ]
  },
  {
   "cell_type": "markdown",
   "metadata": {},
   "source": [
    "#### Transformation of frame of reference constraints for linear and angular velocities "
   ]
  },
  {
   "cell_type": "markdown",
   "metadata": {},
   "source": [
    "- Transformation of Angular velocities in body frame to inertial frame"
   ]
  },
  {
   "cell_type": "code",
   "execution_count": 8,
   "metadata": {
    "collapsed": false
   },
   "outputs": [],
   "source": [
    "@NLexpression(m, WnInv_νX[t=1:T[k]], AVb[1,t]*Winv11[t] + AVb[2,t]*Winv12[t] + AVb[3,t]*Winv13[t])\n",
    "@NLexpression(m, WnInv_νY[t=1:T[k]], AVb[1,t]*Winv21[t] + AVb[2,t]*Winv22[t] + AVb[3,t]*Winv23[t])\n",
    "@NLexpression(m, WnInv_νZ[t=1:T[k]], AVb[1,t]*Winv31[t] + AVb[2,t]*Winv32[t] + AVb[3,t]*Winv33[t])\n",
    "\n",
    "for t in 1:T[k]\n",
    "    @NLconstraint(m, AVi[1,t] == WnInv_νX[t])\n",
    "    @NLconstraint(m, AVi[2,t] == WnInv_νX[t])\n",
    "    @NLconstraint(m, AVi[3,t] == WnInv_νX[t])\n",
    "end"
   ]
  },
  {
   "cell_type": "markdown",
   "metadata": {},
   "source": [
    "- Transformation of Linear velocities in body frame to inertial frame"
   ]
  },
  {
   "cell_type": "code",
   "execution_count": 9,
   "metadata": {
    "collapsed": false
   },
   "outputs": [],
   "source": [
    "@NLexpression(m, RLVbX[t=1:T[k]], LVb[1,t]*R11[t] + LVb[2,t]*R12[t] + LVb[3,t]*R13[t])\n",
    "@NLexpression(m, RLVbY[t=1:T[k]], LVb[1,t]*R21[t] + LVb[2,t]*R22[t] + LVb[3,t]*R23[t])\n",
    "@NLexpression(m, RLVbZ[t=1:T[k]], LVb[1,t]*R31[t] + LVb[2,t]*R32[t] + LVb[3,t]*R33[t])\n",
    "\n",
    "for t in 1:T[k]\n",
    "    @NLconstraint(m, LVi[1,t] == RLVbX[t])\n",
    "    @NLconstraint(m, LVi[2,t] == RLVbY[t])\n",
    "    @NLconstraint(m, LVi[3,t] == RLVbZ[t])\n",
    "end"
   ]
  },
  {
   "cell_type": "markdown",
   "metadata": {},
   "source": [
    "#### Velocity constraints "
   ]
  },
  {
   "cell_type": "code",
   "execution_count": 10,
   "metadata": {
    "collapsed": false
   },
   "outputs": [],
   "source": [
    "# satisfy the dynamics (with zero initial translational and angular velocity in body frame and inertial frame)\n",
    "@constraint(m, LVb[:,1] .== [0;0;0])\n",
    "@constraint(m, AVb[:,1] .== [0;0;0])\n",
    "@constraint(m, LVi[:,1] .== [0;0;0])\n",
    "@constraint(m, AVi[:,1] .== [0;0;0])\n",
    "\n",
    "\n",
    "for t in 1:T[k]-1\n",
    "    # Translational velocity and acceleration constraints in inertial frame\n",
    "    @constraint(m, ξ[:,t+1] .== ξ[:,t] + LVi[:,t])\n",
    "    @constraint(m, LVi[:,t+1] .== LVi[:,t] + LAi[:,t])\n",
    "    \n",
    "    # Angular velocity and acceleration constraints in inertial frame\n",
    "    @constraint(m, η[:,t+1] .== η[:,t] + AVi[:,t])\n",
    "    @constraint(m, AVi[:,t+1] .== AVi[:,t] + AAi[:,t])\n",
    "end\n",
    "\n",
    "# hit all the waypoints\n",
    "for i in [1 k]\n",
    "    @constraint(m, ξ[:,T[i]] .== xw[:,i])\n",
    "   #@constraint(m, η[:,T[i]] .== ηw[:,i])\n",
    "   # @constraint(m, LVi[:,T[i]] .== LViw[:,i])\n",
    "   # @constraint(m, LAi[:,T[i]] .== LViw[:,i])\n",
    "   # @constraint(m, AVi[:,T[i]] .== LViw[:,i])\n",
    "   # @constraint(m, AAi[:,T[i]] .== LViw[:,i])\n",
    "end"
   ]
  },
  {
   "cell_type": "markdown",
   "metadata": {},
   "source": [
    "#### Newton-Euler equations\n",
    "These are the constraints to be applied to obtain quadcopter dynamics\n",
    "- In the body frame, the force required for the\n",
    "acceleration of mass m and the centrifugal force are equal to the\n",
    "gravity and the total thrust of the rotors"
   ]
  },
  {
   "cell_type": "code",
   "execution_count": 11,
   "metadata": {
    "collapsed": false
   },
   "outputs": [],
   "source": [
    "# Centrifugal Force in 3 directions\n",
    "@NLexpression(m, centrifugalForceX[t=1:T[k]], (AVb[2,t]*mass*LVb[3,t] - AVb[3,t]*mass*LVb[2,t]))\n",
    "@NLexpression(m, centrifugalForceY[t=1:T[k]], (AVb[3,t]*mass*LVb[1,t] - AVb[1,t]*mass*LVb[3,t]))\n",
    "@NLexpression(m, centrifugalForceZ[t=1:T[k]], (AVb[1,t]*mass*LVb[2,t] - AVb[2,t]*mass*LVb[1,t]))\n",
    "\n",
    "# Gravitational force\n",
    "@NLexpression(m, RtransposeGX[t=1:T[k]], -R31[t]*mass*g)\n",
    "@NLexpression(m, RtransposeGY[t=1:T[k]], -R32[t]*mass*g)\n",
    "@NLexpression(m, RtransposeGZ[t=1:T[k]], -R33[t]*mass*g)\n",
    "\n",
    "for t in 1:T[k]\n",
    "    @NLconstraint(m, mass*LAb[1,t] + centrifugalForceX[t] == RtransposeGX[t])\n",
    "    @NLconstraint(m, mass*LAb[2,t] + centrifugalForceY[t] == RtransposeGY[t])\n",
    "    @NLconstraint(m, mass*LAb[3,t] + centrifugalForceZ[t] == RtransposeGZ[t] + TB3[t])\n",
    "end"
   ]
  },
  {
   "cell_type": "markdown",
   "metadata": {},
   "source": [
    "- In the inertial frame, the centrifugal force is nullified. Thus, only the gravitational\n",
    "force and the magnitude and direction of the thrust are contributing in the acceleration\n",
    "of the quadcopter"
   ]
  },
  {
   "cell_type": "code",
   "execution_count": 12,
   "metadata": {
    "collapsed": false
   },
   "outputs": [],
   "source": [
    "for t in 1:T[k]\n",
    "    @NLconstraint(m, LAi[1,t] == -(Ax/mass)*LVi[1,t] + (TB3[t]/mass)*(cos(ψ[t])*sin(θ[t])*cos(ϕ[t]) + sin(ψ[t])*sin(ϕ[t])))\n",
    "    @NLconstraint(m, LAi[2,t] == -(Ay/mass)*LVi[2,t] + (TB3[t]/mass)*(sin(ψ[t])*sin(θ[t])*cos(ϕ[t]) - cos(ψ[t])*sin(ϕ[t])))\n",
    "    @NLconstraint(m, LAi[3,t] == -(Az/mass)*LVi[3,t] + (TB3[t]/mass)*(cos(θ[t])*cos(ϕ[t])) - g)\n",
    "    \n",
    "    # simplified\n",
    "    #@NLconstraint(m, LAi[1,t] == -(Ax/mass)*LVi[1,t] + (TB3[t]/mass)*((θ[t]) + (ψ[t])*(ϕ[t])))\n",
    "    #@NLconstraint(m, LAi[2,t] == -(Ay/mass)*LVi[2,t] + (TB3[t]/mass)*((ψ[t])*(θ[t]) - (ϕ[t])))\n",
    "    #@NLconstraint(m, LAi[3,t] == -(Az/mass)*LVi[3,t] + (TB3[t]/mass) - g)\n",
    "end"
   ]
  },
  {
   "cell_type": "markdown",
   "metadata": {},
   "source": [
    "- In the body frame, the angular acceleration of the inertia , the centripetal forces and the gyroscopic forces are equal to the external torque"
   ]
  },
  {
   "cell_type": "code",
   "execution_count": 13,
   "metadata": {
    "collapsed": false
   },
   "outputs": [],
   "source": [
    "for t in 1:T[k]\n",
    "    @NLconstraint(m, AAb[1,t] == (Iyy - Izz)*q[t]*r[t]/Ixx + τbϕ[t]/Ixx)\n",
    "    @NLconstraint(m, AAb[2,t] == (Izz - Ixx)*p[t]*r[t]/Iyy + τbθ[t]/Iyy)\n",
    "    @NLconstraint(m, AAb[3,t] == (Ixx - Iyy)*p[t]*q[t]/Izz + τbψ[t]/Izz)\n",
    "end"
   ]
  },
  {
   "cell_type": "markdown",
   "metadata": {},
   "source": [
    "- The angular accelerations in the inertial frame are\n",
    "then attracted from the body frame accelerations with the transformation matrix\n",
    "$W^{−1}$ and its time derivative"
   ]
  },
  {
   "cell_type": "code",
   "execution_count": 14,
   "metadata": {
    "collapsed": false
   },
   "outputs": [],
   "source": [
    "@NLexpression(m, dWnInv_νX[t=1:T[k]], AVb[1,t]*dWinv11[t] + AVb[2,t]*dWinv12[t] + AVb[3,t]*dWinv13[t])\n",
    "@NLexpression(m, dWnInv_νY[t=1:T[k]], AVb[1,t]*dWinv21[t] + AVb[2,t]*dWinv22[t] + AVb[3,t]*dWinv23[t])\n",
    "@NLexpression(m, dWnInv_νZ[t=1:T[k]], AVb[1,t]*dWinv31[t] + AVb[2,t]*dWinv32[t] + AVb[3,t]*dWinv33[t])\n",
    "\n",
    "@NLexpression(m, WnInv_νdotX[t=1:T[k]], AAb[1,t]*Winv11[t] + AAb[2,t]*Winv12[t] + AAb[3,t]*Winv13[t])\n",
    "@NLexpression(m, WnInv_νdotY[t=1:T[k]], AAb[1,t]*Winv21[t] + AAb[2,t]*Winv22[t] + AAb[3,t]*Winv23[t])\n",
    "@NLexpression(m, WnInv_νdotZ[t=1:T[k]], AAb[1,t]*Winv31[t] + AAb[2,t]*Winv32[t] + AAb[3,t]*Winv33[t])\n",
    "\n",
    "for t in 1:T[k]\n",
    "    @NLconstraint(m, AAi[1,t] == dWnInv_νX[t] + WnInv_νdotX[t])\n",
    "    @NLconstraint(m, AAi[2,t] == dWnInv_νY[t] + WnInv_νdotY[t])\n",
    "    @NLconstraint(m, AAi[3,t] == dWnInv_νZ[t] + WnInv_νdotZ[t])\n",
    "end"
   ]
  },
  {
   "cell_type": "markdown",
   "metadata": {},
   "source": [
    "### Objective "
   ]
  },
  {
   "cell_type": "code",
   "execution_count": 15,
   "metadata": {
    "collapsed": false
   },
   "outputs": [
    {
     "data": {
      "text/plain": [
       ":Min"
      ]
     },
     "execution_count": 15,
     "metadata": {},
     "output_type": "execute_result"
    }
   ],
   "source": [
    "λ=100\n",
    "@objective(m, Min, sum(ωSq) + λ*sum( (ξ[:,T[2:k]]-xw[:,2:k]).^2  ))"
   ]
  },
  {
   "cell_type": "code",
   "execution_count": 16,
   "metadata": {
    "collapsed": false,
    "scrolled": true
   },
   "outputs": [],
   "source": [
    "#m"
   ]
  },
  {
   "cell_type": "code",
   "execution_count": 17,
   "metadata": {
    "collapsed": false
   },
   "outputs": [
    {
     "name": "stdout",
     "output_type": "stream",
     "text": [
      "Bonmin 1.8.4 using Cbc 2.9.7 and Ipopt 3.12.4\n",
      "bonmin: \n",
      "Cbc3007W No integer variables - nothing to do\n",
      "\n",
      "******************************************************************************\n",
      "This program contains Ipopt, a library for large-scale nonlinear optimization.\n",
      " Ipopt is released as open source code under the Eclipse Public License (EPL).\n",
      "         For more information visit http://projects.coin-or.org/Ipopt\n",
      "******************************************************************************\n",
      "\n",
      "NLP0012I \n",
      "              Num      Status      Obj             It       time                 Location\n",
      "NLP0014I             1         OPT 41.084138      361 0.731861\n",
      "Cbc3007W No integer variables - nothing to do\n",
      "\b\b\b\b\b\b\b\b\n",
      " \t\"Finished\"\n",
      "Status: Optimal\n"
     ]
    }
   ],
   "source": [
    "println(\"Status: \",solve(m))"
   ]
  },
  {
   "cell_type": "code",
   "execution_count": 18,
   "metadata": {
    "collapsed": false
   },
   "outputs": [
    {
     "data": {
      "text/plain": [
       "41.0841381168749"
      ]
     },
     "execution_count": 18,
     "metadata": {},
     "output_type": "execute_result"
    }
   ],
   "source": [
    "getobjectivevalue(m)"
   ]
  },
  {
   "cell_type": "code",
   "execution_count": 19,
   "metadata": {
    "collapsed": false
   },
   "outputs": [
    {
     "data": {
      "text/plain": [
       "3×5 Array{Float64,2}:\n",
       " -7.62548e-25  -1.20543e-23  -0.000607601  -0.00135963  -7.54818e-25\n",
       "  3.14482e-25   1.07559e-24   0.263276      0.589134     1.0        \n",
       " -5.73763e-26  -1.59526e-25   1.0           2.11357e-9   1.0        "
      ]
     },
     "execution_count": 19,
     "metadata": {},
     "output_type": "execute_result"
    }
   ],
   "source": [
    "getvalue(ξ)"
   ]
  },
  {
   "cell_type": "code",
   "execution_count": 20,
   "metadata": {
    "collapsed": false
   },
   "outputs": [
    {
     "data": {
      "text/plain": [
       "3×5 Array{Float64,2}:\n",
       " -0.0243479    -0.0243479    -0.022967     -0.0128534    0.00421851 \n",
       "  0.000327295   0.000327295   0.000517794   0.000732411  0.000814838\n",
       "  0.0157468     0.0157468     0.0159373     0.0161519    0.0162344  "
      ]
     },
     "execution_count": 20,
     "metadata": {},
     "output_type": "execute_result"
    }
   ],
   "source": [
    "getvalue(η)"
   ]
  },
  {
   "cell_type": "code",
   "execution_count": 21,
   "metadata": {
    "collapsed": false
   },
   "outputs": [
    {
     "data": {
      "text/plain": [
       "4×5 Array{Float64,2}:\n",
       "  1.85746  9.62158e-6  1.36465e-7  0.817466  1.70256\n",
       "  0.0      1.99235     2.91695e-7  1.19757   1.70256\n",
       "  3.20312  1.91388     5.27847     1.89037   1.09754\n",
       " 10.0      9.62158e-6  2.74661e-7  1.72937   1.09753"
      ]
     },
     "execution_count": 21,
     "metadata": {},
     "output_type": "execute_result"
    }
   ],
   "source": [
    "getvalue(ωSq)"
   ]
  },
  {
   "cell_type": "code",
   "execution_count": 22,
   "metadata": {
    "collapsed": false
   },
   "outputs": [
    {
     "data": {
      "text/plain": [
       "3×5 Array{Float64,2}:\n",
       " -0.000607601  -0.000144431  0.00211166   0.00365194   0.00374897\n",
       "  0.263276      0.0625825    0.0850083   -0.112138    -0.19017   \n",
       "  1.0          -2.0          2.0         -2.0         -2.0       "
      ]
     },
     "execution_count": 22,
     "metadata": {},
     "output_type": "execute_result"
    }
   ],
   "source": [
    "getvalue(LAi)"
   ]
  },
  {
   "cell_type": "code",
   "execution_count": 23,
   "metadata": {
    "collapsed": false
   },
   "outputs": [
    {
     "data": {
      "text/plain": [
       "3×5 Array{Float64,2}:\n",
       " -1.05292e-23  -0.000607601  -0.000752032  0.00135963   0.00501157\n",
       "  4.46629e-25   0.263276      0.325858     0.410866     0.298729  \n",
       " -4.47729e-26   1.0          -1.0          1.0         -1.0       "
      ]
     },
     "execution_count": 23,
     "metadata": {},
     "output_type": "execute_result"
    }
   ],
   "source": [
    "getvalue(LVi)"
   ]
  },
  {
   "cell_type": "code",
   "execution_count": 24,
   "metadata": {
    "collapsed": false
   },
   "outputs": [
    {
     "data": {
      "text/plain": [
       "3×5 Array{Float64,2}:\n",
       " -8.06427e-24  0.00138083   0.0101136    0.0170719    0.0187712 \n",
       "  2.71818e-22  0.000190499  0.000214617  8.24271e-5  -0.00013958\n",
       " -5.40348e-23  0.000190499  0.000214617  8.24271e-5  -0.00013958"
      ]
     },
     "execution_count": 24,
     "metadata": {},
     "output_type": "execute_result"
    }
   ],
   "source": [
    "getvalue(AVi)"
   ]
  },
  {
   "cell_type": "code",
   "execution_count": 25,
   "metadata": {
    "collapsed": false
   },
   "outputs": [
    {
     "data": {
      "text/plain": [
       "3×5 Array{Float64,2}:\n",
       " 0.00138083   0.00873278   0.00695835   0.0016992    0.00386925 \n",
       " 0.000190499  2.41175e-5  -0.00013219  -0.000222007  0.000498137\n",
       " 0.000190499  2.41175e-5  -0.00013219  -0.000222007  0.000602359"
      ]
     },
     "execution_count": 25,
     "metadata": {},
     "output_type": "execute_result"
    }
   ],
   "source": [
    "getvalue(AAi)"
   ]
  },
  {
   "cell_type": "code",
   "execution_count": null,
   "metadata": {
    "collapsed": true
   },
   "outputs": [],
   "source": []
  }
 ],
 "metadata": {
  "kernelspec": {
   "display_name": "Julia 0.5.0",
   "language": "julia",
   "name": "julia-0.5"
  },
  "language_info": {
   "file_extension": ".jl",
   "mimetype": "application/julia",
   "name": "julia",
   "version": "0.5.0"
  }
 },
 "nbformat": 4,
 "nbformat_minor": 2
}
